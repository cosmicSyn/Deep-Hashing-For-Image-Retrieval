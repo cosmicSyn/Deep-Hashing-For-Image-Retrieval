{
  "cells": [
    {
      "cell_type": "code",
      "execution_count": 1,
      "metadata": {
        "execution": {
          "iopub.execute_input": "2024-04-23T05:09:49.724568Z",
          "iopub.status.busy": "2024-04-23T05:09:49.723721Z",
          "iopub.status.idle": "2024-04-23T05:10:08.474083Z",
          "shell.execute_reply": "2024-04-23T05:10:08.473198Z",
          "shell.execute_reply.started": "2024-04-23T05:09:49.724536Z"
        },
        "trusted": true,
        "colab": {
          "base_uri": "https://localhost:8080/"
        },
        "id": "qsRhXW5c-n3v",
        "outputId": "4ea72a4a-4b0c-451b-d41b-b33f51492fbe"
      },
      "outputs": [
        {
          "output_type": "stream",
          "name": "stdout",
          "text": [
            "Requirement already satisfied: torchsummary in /usr/local/lib/python3.10/dist-packages (1.5.1)\n"
          ]
        }
      ],
      "source": [
        "!pip install torchsummary\n",
        "import torch\n",
        "import torchvision\n",
        "from torchsummary import summary\n"
      ]
    },
    {
      "cell_type": "code",
      "execution_count": 2,
      "metadata": {
        "execution": {
          "iopub.execute_input": "2024-04-23T05:10:08.476293Z",
          "iopub.status.busy": "2024-04-23T05:10:08.475711Z",
          "iopub.status.idle": "2024-04-23T05:10:08.534071Z",
          "shell.execute_reply": "2024-04-23T05:10:08.533127Z",
          "shell.execute_reply.started": "2024-04-23T05:10:08.476266Z"
        },
        "trusted": true,
        "colab": {
          "base_uri": "https://localhost:8080/"
        },
        "id": "H7kTwCMT-n32",
        "outputId": "c772d2fb-d2b8-4b1c-e5ab-f2106c4ae091"
      },
      "outputs": [
        {
          "output_type": "execute_result",
          "data": {
            "text/plain": [
              "device(type='cuda', index=0)"
            ]
          },
          "metadata": {},
          "execution_count": 2
        }
      ],
      "source": [
        "device = torch.device(\"cuda:0\" if torch.cuda.is_available() else \"cpu\")\n",
        "device"
      ]
    },
    {
      "cell_type": "code",
      "execution_count": 4,
      "metadata": {
        "execution": {
          "iopub.execute_input": "2024-04-23T05:24:48.666731Z",
          "iopub.status.busy": "2024-04-23T05:24:48.666047Z",
          "iopub.status.idle": "2024-04-23T05:24:49.596091Z",
          "shell.execute_reply": "2024-04-23T05:24:49.595281Z",
          "shell.execute_reply.started": "2024-04-23T05:24:48.666699Z"
        },
        "trusted": true,
        "colab": {
          "base_uri": "https://localhost:8080/"
        },
        "id": "UyuoTmtH-n33",
        "outputId": "5e5c1b82-5820-4046-85e9-dc5b38970188"
      },
      "outputs": [
        {
          "output_type": "stream",
          "name": "stdout",
          "text": [
            "Downloading https://www.cs.toronto.edu/~kriz/cifar-10-python.tar.gz to Datasets/cifar-10-python.tar.gz\n"
          ]
        },
        {
          "output_type": "stream",
          "name": "stderr",
          "text": [
            "100%|██████████| 170498071/170498071 [00:02<00:00, 75249474.73it/s] \n"
          ]
        },
        {
          "output_type": "stream",
          "name": "stdout",
          "text": [
            "Extracting Datasets/cifar-10-python.tar.gz to Datasets\n"
          ]
        }
      ],
      "source": [
        "from torchvision import transforms\n",
        "from torch.utils.data import DataLoader\n",
        "\n",
        "mean_values = [0.485, 0.456, 0.406]\n",
        "std_values = [0.229, 0.224, 0.225]\n",
        "\n",
        "transform = transforms.Compose([\n",
        "            transforms.ToTensor(),\n",
        "            transforms.Normalize(mean=mean_values, std=std_values)\n",
        "        ])\n",
        "\n",
        "CIFAR10 = torchvision.datasets.CIFAR10(root =  'Datasets', download=True, transform=transform, train=True)\n",
        "\n"
      ]
    },
    {
      "cell_type": "code",
      "execution_count": 5,
      "metadata": {
        "execution": {
          "iopub.execute_input": "2024-04-23T05:24:28.292410Z",
          "iopub.status.busy": "2024-04-23T05:24:28.291589Z",
          "iopub.status.idle": "2024-04-23T05:24:28.322549Z",
          "shell.execute_reply": "2024-04-23T05:24:28.321205Z",
          "shell.execute_reply.started": "2024-04-23T05:24:28.292376Z"
        },
        "trusted": true,
        "id": "AyBaIIDp-n35"
      },
      "outputs": [],
      "source": [
        "dataloader = DataLoader(CIFAR10, batch_size= 256,shuffle= True)"
      ]
    },
    {
      "cell_type": "code",
      "execution_count": 6,
      "metadata": {
        "execution": {
          "iopub.execute_input": "2024-04-23T05:10:13.111552Z",
          "iopub.status.busy": "2024-04-23T05:10:13.111313Z",
          "iopub.status.idle": "2024-04-23T05:10:13.198389Z",
          "shell.execute_reply": "2024-04-23T05:10:13.197482Z",
          "shell.execute_reply.started": "2024-04-23T05:10:13.111531Z"
        },
        "trusted": true,
        "colab": {
          "base_uri": "https://localhost:8080/"
        },
        "id": "ZsMVyfB4-n35",
        "outputId": "cd00378f-ed38-425e-918d-d7d9a7c45797"
      },
      "outputs": [
        {
          "output_type": "execute_result",
          "data": {
            "text/plain": [
              "torch.Size([3, 32, 32])"
            ]
          },
          "metadata": {},
          "execution_count": 6
        }
      ],
      "source": [
        "CIFAR10.__getitem__(0)[0].shape"
      ]
    },
    {
      "cell_type": "code",
      "execution_count": 31,
      "metadata": {
        "execution": {
          "iopub.execute_input": "2024-04-23T05:10:13.199725Z",
          "iopub.status.busy": "2024-04-23T05:10:13.199476Z",
          "iopub.status.idle": "2024-04-23T05:10:14.499297Z",
          "shell.execute_reply": "2024-04-23T05:10:14.498425Z",
          "shell.execute_reply.started": "2024-04-23T05:10:13.199704Z"
        },
        "trusted": true,
        "colab": {
          "base_uri": "https://localhost:8080/"
        },
        "id": "VgQVEkRa-n36",
        "outputId": "fa1ec22d-9ae0-4b9c-fe76-bf411cdcc2c5"
      },
      "outputs": [
        {
          "output_type": "stream",
          "name": "stderr",
          "text": [
            "/usr/local/lib/python3.10/dist-packages/torchvision/models/_utils.py:208: UserWarning: The parameter 'pretrained' is deprecated since 0.13 and may be removed in the future, please use 'weights' instead.\n",
            "  warnings.warn(\n",
            "/usr/local/lib/python3.10/dist-packages/torchvision/models/_utils.py:223: UserWarning: Arguments other than a weight enum or `None` for 'weights' are deprecated since 0.13 and may be removed in the future. The current behavior is equivalent to passing `weights=VGG16_Weights.IMAGENET1K_V1`. You can also use `weights=VGG16_Weights.DEFAULT` to get the most up-to-date weights.\n",
            "  warnings.warn(msg)\n"
          ]
        },
        {
          "output_type": "stream",
          "name": "stdout",
          "text": [
            "----------------------------------------------------------------\n",
            "        Layer (type)               Output Shape         Param #\n",
            "================================================================\n",
            "            Conv2d-1           [-1, 64, 32, 32]           1,792\n",
            "              ReLU-2           [-1, 64, 32, 32]               0\n",
            "            Conv2d-3           [-1, 64, 32, 32]          36,928\n",
            "              ReLU-4           [-1, 64, 32, 32]               0\n",
            "         MaxPool2d-5           [-1, 64, 16, 16]               0\n",
            "            Conv2d-6          [-1, 128, 16, 16]          73,856\n",
            "              ReLU-7          [-1, 128, 16, 16]               0\n",
            "            Conv2d-8          [-1, 128, 16, 16]         147,584\n",
            "              ReLU-9          [-1, 128, 16, 16]               0\n",
            "        MaxPool2d-10            [-1, 128, 8, 8]               0\n",
            "           Conv2d-11            [-1, 256, 8, 8]         295,168\n",
            "             ReLU-12            [-1, 256, 8, 8]               0\n",
            "           Conv2d-13            [-1, 256, 8, 8]         590,080\n",
            "             ReLU-14            [-1, 256, 8, 8]               0\n",
            "           Conv2d-15            [-1, 256, 8, 8]         590,080\n",
            "             ReLU-16            [-1, 256, 8, 8]               0\n",
            "        MaxPool2d-17            [-1, 256, 4, 4]               0\n",
            "           Conv2d-18            [-1, 512, 4, 4]       1,180,160\n",
            "             ReLU-19            [-1, 512, 4, 4]               0\n",
            "           Conv2d-20            [-1, 512, 4, 4]       2,359,808\n",
            "             ReLU-21            [-1, 512, 4, 4]               0\n",
            "           Conv2d-22            [-1, 512, 4, 4]       2,359,808\n",
            "             ReLU-23            [-1, 512, 4, 4]               0\n",
            "        MaxPool2d-24            [-1, 512, 2, 2]               0\n",
            "           Conv2d-25            [-1, 512, 2, 2]       2,359,808\n",
            "             ReLU-26            [-1, 512, 2, 2]               0\n",
            "           Conv2d-27            [-1, 512, 2, 2]       2,359,808\n",
            "             ReLU-28            [-1, 512, 2, 2]               0\n",
            "           Conv2d-29            [-1, 512, 2, 2]       2,359,808\n",
            "             ReLU-30            [-1, 512, 2, 2]               0\n",
            "        MaxPool2d-31            [-1, 512, 1, 1]               0\n",
            "AdaptiveAvgPool2d-32            [-1, 512, 7, 7]               0\n",
            "================================================================\n",
            "Total params: 14,714,688\n",
            "Trainable params: 14,714,688\n",
            "Non-trainable params: 0\n",
            "----------------------------------------------------------------\n",
            "Input size (MB): 0.01\n",
            "Forward/backward pass size (MB): 4.65\n",
            "Params size (MB): 56.13\n",
            "Estimated Total Size (MB): 60.79\n",
            "----------------------------------------------------------------\n"
          ]
        }
      ],
      "source": [
        "import torchvision.models as models\n",
        "import torch.nn as nn\n",
        "# Importing VGG model\n",
        "vgg = models.vgg16(pretrained=True).to(device)\n",
        "vgg = nn.Sequential(*list(vgg.children())[:-1])\n",
        "\n",
        "summary(vgg, (3, 32, 32))"
      ]
    },
    {
      "cell_type": "code",
      "execution_count": 32,
      "metadata": {
        "execution": {
          "iopub.execute_input": "2024-04-23T05:10:14.500812Z",
          "iopub.status.busy": "2024-04-23T05:10:14.500482Z",
          "iopub.status.idle": "2024-04-23T05:10:14.509468Z",
          "shell.execute_reply": "2024-04-23T05:10:14.508477Z",
          "shell.execute_reply.started": "2024-04-23T05:10:14.500783Z"
        },
        "trusted": true,
        "id": "XBSUW9Ub-n37"
      },
      "outputs": [],
      "source": [
        "import torch.nn as nn\n",
        "class model(nn.Module):\n",
        "    def __init__(self, classifier, bit_length = 32):\n",
        "        super(model, self).__init__()\n",
        "        self.classifier = classifier\n",
        "\n",
        "        # self.fc1 = nn.Sequential()\n",
        "        # self.fc1.add_module('fc6_s1',nn.Linear(512, 1024)) #256*3*3\n",
        "        # self.fc1.add_module('relu6_s1',nn.ReLU(inplace=True))\n",
        "        # self.fc1.add_module('drop6_s1',nn.Dropout(p=0.5))\n",
        "\n",
        "        # self.fc2 = nn.Sequential()\n",
        "        # self.fc2.add_module('fc2',nn.Linear(1024, 512))\n",
        "        # self.fc2.add_module('relu7',nn.ReLU(inplace=True))\n",
        "        # self.fc2.add_module('drop7',nn.Dropout(p=0.5))\n",
        "\n",
        "        # self.fc3 = nn.Sequential()\n",
        "        # self.fc3.add_module('fc8',nn.Linear(512, hash_length))\n",
        "        # self.fc3.add_module('tanh', nn.Tanh())\n",
        "        self.fc = nn.Sequential(\n",
        "                nn.Dropout(0.2),\n",
        "                nn.Linear(512 * 7 * 7, 2048),\n",
        "                nn.ReLU(inplace=True),\n",
        "                nn.Dropout(0.2),\n",
        "                nn.Linear(2048, 2048),\n",
        "                nn.ReLU(inplace=True),\n",
        "                nn.Linear(2048, bit_length),\n",
        "                # nn.Tanh()\n",
        "            )\n",
        "    def forward(self, x):\n",
        "        x = self.classifier(x)\n",
        "        x = torch.flatten(x, start_dim= 1, end_dim= 3)\n",
        "        x = self.fc(x)\n",
        "        # x = self.fc2(x)\n",
        "        # x = self.fc3(x)\n",
        "        return x\n",
        ""
      ]
    },
    {
      "cell_type": "code",
      "execution_count": 33,
      "metadata": {
        "execution": {
          "iopub.execute_input": "2024-04-23T05:10:14.510950Z",
          "iopub.status.busy": "2024-04-23T05:10:14.510608Z",
          "iopub.status.idle": "2024-04-23T05:10:14.578347Z",
          "shell.execute_reply": "2024-04-23T05:10:14.577469Z",
          "shell.execute_reply.started": "2024-04-23T05:10:14.510921Z"
        },
        "trusted": true,
        "colab": {
          "base_uri": "https://localhost:8080/"
        },
        "id": "ZhIJijpc-n38",
        "outputId": "bc3319b8-6034-42cc-9f2c-cc0d6f14cfe5"
      },
      "outputs": [
        {
          "output_type": "execute_result",
          "data": {
            "text/plain": [
              "model(\n",
              "  (classifier): Sequential(\n",
              "    (0): Sequential(\n",
              "      (0): Conv2d(3, 64, kernel_size=(3, 3), stride=(1, 1), padding=(1, 1))\n",
              "      (1): ReLU(inplace=True)\n",
              "      (2): Conv2d(64, 64, kernel_size=(3, 3), stride=(1, 1), padding=(1, 1))\n",
              "      (3): ReLU(inplace=True)\n",
              "      (4): MaxPool2d(kernel_size=2, stride=2, padding=0, dilation=1, ceil_mode=False)\n",
              "      (5): Conv2d(64, 128, kernel_size=(3, 3), stride=(1, 1), padding=(1, 1))\n",
              "      (6): ReLU(inplace=True)\n",
              "      (7): Conv2d(128, 128, kernel_size=(3, 3), stride=(1, 1), padding=(1, 1))\n",
              "      (8): ReLU(inplace=True)\n",
              "      (9): MaxPool2d(kernel_size=2, stride=2, padding=0, dilation=1, ceil_mode=False)\n",
              "      (10): Conv2d(128, 256, kernel_size=(3, 3), stride=(1, 1), padding=(1, 1))\n",
              "      (11): ReLU(inplace=True)\n",
              "      (12): Conv2d(256, 256, kernel_size=(3, 3), stride=(1, 1), padding=(1, 1))\n",
              "      (13): ReLU(inplace=True)\n",
              "      (14): Conv2d(256, 256, kernel_size=(3, 3), stride=(1, 1), padding=(1, 1))\n",
              "      (15): ReLU(inplace=True)\n",
              "      (16): MaxPool2d(kernel_size=2, stride=2, padding=0, dilation=1, ceil_mode=False)\n",
              "      (17): Conv2d(256, 512, kernel_size=(3, 3), stride=(1, 1), padding=(1, 1))\n",
              "      (18): ReLU(inplace=True)\n",
              "      (19): Conv2d(512, 512, kernel_size=(3, 3), stride=(1, 1), padding=(1, 1))\n",
              "      (20): ReLU(inplace=True)\n",
              "      (21): Conv2d(512, 512, kernel_size=(3, 3), stride=(1, 1), padding=(1, 1))\n",
              "      (22): ReLU(inplace=True)\n",
              "      (23): MaxPool2d(kernel_size=2, stride=2, padding=0, dilation=1, ceil_mode=False)\n",
              "      (24): Conv2d(512, 512, kernel_size=(3, 3), stride=(1, 1), padding=(1, 1))\n",
              "      (25): ReLU(inplace=True)\n",
              "      (26): Conv2d(512, 512, kernel_size=(3, 3), stride=(1, 1), padding=(1, 1))\n",
              "      (27): ReLU(inplace=True)\n",
              "      (28): Conv2d(512, 512, kernel_size=(3, 3), stride=(1, 1), padding=(1, 1))\n",
              "      (29): ReLU(inplace=True)\n",
              "      (30): MaxPool2d(kernel_size=2, stride=2, padding=0, dilation=1, ceil_mode=False)\n",
              "    )\n",
              "    (1): AdaptiveAvgPool2d(output_size=(7, 7))\n",
              "  )\n",
              "  (fc): Sequential(\n",
              "    (0): Dropout(p=0.2, inplace=False)\n",
              "    (1): Linear(in_features=25088, out_features=2048, bias=True)\n",
              "    (2): ReLU(inplace=True)\n",
              "    (3): Dropout(p=0.2, inplace=False)\n",
              "    (4): Linear(in_features=2048, out_features=2048, bias=True)\n",
              "    (5): ReLU(inplace=True)\n",
              "    (6): Linear(in_features=2048, out_features=16, bias=True)\n",
              "  )\n",
              ")"
            ]
          },
          "metadata": {},
          "execution_count": 33
        }
      ],
      "source": [
        "vgg_model = model(vgg, bit_length= 16)\n",
        "vgg_model.to(device)"
      ]
    },
    {
      "cell_type": "code",
      "execution_count": 34,
      "metadata": {
        "execution": {
          "iopub.execute_input": "2024-04-23T05:10:14.579998Z",
          "iopub.status.busy": "2024-04-23T05:10:14.579634Z",
          "iopub.status.idle": "2024-04-23T05:10:15.494941Z",
          "shell.execute_reply": "2024-04-23T05:10:15.494093Z",
          "shell.execute_reply.started": "2024-04-23T05:10:14.579965Z"
        },
        "trusted": true,
        "colab": {
          "base_uri": "https://localhost:8080/"
        },
        "id": "GQAq63HJ-n38",
        "outputId": "bc25848a-77af-42df-c1fa-1dcf5149d411"
      },
      "outputs": [
        {
          "output_type": "execute_result",
          "data": {
            "text/plain": [
              "tensor([[-0.0030,  0.2032,  0.1335,  ..., -0.0882,  0.0639, -0.0548],\n",
              "        [-0.1830,  0.0665,  0.0611,  ..., -0.3321, -0.0393, -0.3994],\n",
              "        [-0.1758,  0.2485, -0.0088,  ..., -0.1839, -0.3391, -0.0681],\n",
              "        ...,\n",
              "        [-0.0447,  0.1669,  0.1722,  ..., -0.0874,  0.0804,  0.0122],\n",
              "        [ 0.0553, -0.0514,  0.1040,  ...,  0.0305, -0.1430,  0.0112],\n",
              "        [ 0.0440,  0.0247,  0.2246,  ..., -0.0712, -0.2149, -0.0015]],\n",
              "       device='cuda:0', grad_fn=<AddmmBackward0>)"
            ]
          },
          "metadata": {},
          "execution_count": 34
        }
      ],
      "source": [
        "image, labels = next(iter(dataloader))\n",
        "image = image.to(device)\n",
        "labels = labels.to(device)\n",
        "\n",
        "output  = vgg_model(image)\n",
        "output"
      ]
    },
    {
      "cell_type": "code",
      "execution_count": 35,
      "metadata": {
        "execution": {
          "iopub.execute_input": "2024-04-23T05:10:15.498299Z",
          "iopub.status.busy": "2024-04-23T05:10:15.497963Z",
          "iopub.status.idle": "2024-04-23T05:10:15.565953Z",
          "shell.execute_reply": "2024-04-23T05:10:15.564931Z",
          "shell.execute_reply.started": "2024-04-23T05:10:15.498273Z"
        },
        "trusted": true,
        "colab": {
          "base_uri": "https://localhost:8080/"
        },
        "id": "m7RAUKRY-n39",
        "outputId": "34ed832a-38a7-4933-8909-346b912beab6"
      },
      "outputs": [
        {
          "output_type": "execute_result",
          "data": {
            "text/plain": [
              "torch.int64"
            ]
          },
          "metadata": {},
          "execution_count": 35
        }
      ],
      "source": [
        "one_hot_labels = torch.nn.functional.one_hot(labels)\n",
        "one_hot_labels.dtype"
      ]
    },
    {
      "cell_type": "code",
      "execution_count": 36,
      "metadata": {
        "execution": {
          "iopub.execute_input": "2024-04-23T05:10:15.577899Z",
          "iopub.status.busy": "2024-04-23T05:10:15.576864Z",
          "iopub.status.idle": "2024-04-23T05:10:15.589205Z",
          "shell.execute_reply": "2024-04-23T05:10:15.588274Z",
          "shell.execute_reply.started": "2024-04-23T05:10:15.577868Z"
        },
        "trusted": true,
        "id": "bwzq0RdR-n3-"
      },
      "outputs": [],
      "source": [
        "import torch.nn.functional as F\n",
        "class MSE_loss(nn.Module):\n",
        "    def __init__(self):\n",
        "        super(MSE_loss, self).__init__()\n",
        "\n",
        "    def forward(self, U,labels):\n",
        "        L = F.one_hot(labels).to(torch.float64)\n",
        "        S = torch.matmul(L, L.T)\n",
        "\n",
        "        theta= 1/2 * torch.matmul(U, U.T)\n",
        "        loss = torch.sum((S - theta) ** 2)\n",
        "        return loss"
      ]
    },
    {
      "cell_type": "code",
      "execution_count": 37,
      "metadata": {
        "execution": {
          "iopub.execute_input": "2024-04-23T05:10:15.567676Z",
          "iopub.status.busy": "2024-04-23T05:10:15.567283Z",
          "iopub.status.idle": "2024-04-23T05:10:15.575326Z",
          "shell.execute_reply": "2024-04-23T05:10:15.574294Z",
          "shell.execute_reply.started": "2024-04-23T05:10:15.567640Z"
        },
        "trusted": true,
        "id": "Y8hqKyAB-n3-"
      },
      "outputs": [],
      "source": [
        "def dpsh_loss(b, labels):\n",
        "    \"\"\"\n",
        "    DPSH loss function for pairwise labels in supervised hashing.\n",
        "\n",
        "    Args:\n",
        "    b (torch.Tensor): The batch of binary codes, shape [batch_size, code_length], each element should be -1 or 1.\n",
        "    S (torch.Tensor): The matrix of pairwise labels, shape [batch_size, batch_size],\n",
        "                      S[i, j] = 1 if i and j are similar, 0 otherwise.\n",
        "\n",
        "    Returns:\n",
        "    torch.Tensor: The computed loss value.\n",
        "    \"\"\"\n",
        "    # Ensure b is a float tensor for matrix multiplication\n",
        "    L = F.one_hot(labels).to(torch.float64)\n",
        "    S = torch.matmul(L, L.T)\n",
        "    b = b.float()\n",
        "\n",
        "    # Compute the matrix of inner products\n",
        "    sim_matrix = 0.5 * torch.matmul(b, b.t())\n",
        "\n",
        "    # Calculate the DPSH loss\n",
        "    positive_term = S * sim_matrix\n",
        "    log_term = torch.log(1 + torch.exp(sim_matrix))\n",
        "    loss = -torch.sum(positive_term - log_term)\n",
        "\n",
        "    return loss\n"
      ]
    },
    {
      "cell_type": "code",
      "execution_count": 38,
      "metadata": {
        "execution": {
          "iopub.execute_input": "2024-04-23T05:10:15.590738Z",
          "iopub.status.busy": "2024-04-23T05:10:15.590469Z",
          "iopub.status.idle": "2024-04-23T05:10:15.598988Z",
          "shell.execute_reply": "2024-04-23T05:10:15.598216Z",
          "shell.execute_reply.started": "2024-04-23T05:10:15.590715Z"
        },
        "trusted": true,
        "id": "_uROJgJi-n3_"
      },
      "outputs": [],
      "source": [
        "class log_loss(nn.Module):\n",
        "    def __init__(self):\n",
        "        super(log_loss, self).__init__()\n",
        "\n",
        "    def forward(self, U,labels):\n",
        "        L = F.one_hot(labels).to(torch.float64)\n",
        "        S = torch.matmul(L, L.T)\n",
        "\n",
        "\n",
        "        theta= 1/2 * torch.matmul(U, U.T)\n",
        "\n",
        "        J =  - (S * theta - torch.log(1 +   torch.exp(theta)))\n",
        "        loss = 1/ 2 * torch.sum(J)\n",
        "        return loss"
      ]
    },
    {
      "cell_type": "code",
      "execution_count": 39,
      "metadata": {
        "execution": {
          "iopub.execute_input": "2024-04-23T05:10:15.600317Z",
          "iopub.status.busy": "2024-04-23T05:10:15.599992Z",
          "iopub.status.idle": "2024-04-23T05:11:13.435089Z",
          "shell.execute_reply": "2024-04-23T05:11:13.434154Z",
          "shell.execute_reply.started": "2024-04-23T05:10:15.600294Z"
        },
        "trusted": true,
        "colab": {
          "base_uri": "https://localhost:8080/"
        },
        "id": "1hZRr0ST-n3_",
        "outputId": "b0685434-c59c-4d72-a690-911ba6e55e45"
      },
      "outputs": [
        {
          "metadata": {
            "tags": null
          },
          "name": "stderr",
          "output_type": "stream",
          "text": [
            "100%|██████████| 196/196 [00:26<00:00,  7.54it/s, epoch=0, loss=755]\n"
          ]
        },
        {
          "metadata": {
            "tags": null
          },
          "name": "stdout",
          "output_type": "stream",
          "text": [
            "Total loss:111527712.60753094, loss_ 111527319.97558278\n"
          ]
        },
        {
          "metadata": {
            "tags": null
          },
          "name": "stderr",
          "output_type": "stream",
          "text": [
            "100%|██████████| 196/196 [00:26<00:00,  7.31it/s, epoch=1, loss=704]\n"
          ]
        },
        {
          "metadata": {
            "tags": null
          },
          "name": "stdout",
          "output_type": "stream",
          "text": [
            "Total loss:6385.418462179447, loss_ 6107.454737031032\n"
          ]
        },
        {
          "metadata": {
            "tags": null
          },
          "name": "stderr",
          "output_type": "stream",
          "text": [
            "100%|██████████| 196/196 [00:26<00:00,  7.54it/s, epoch=2, loss=648]\n"
          ]
        },
        {
          "metadata": {
            "tags": null
          },
          "name": "stdout",
          "output_type": "stream",
          "text": [
            "Total loss:6085.832931363095, loss_ 5808.824199170725\n"
          ]
        },
        {
          "metadata": {
            "tags": null
          },
          "name": "stderr",
          "output_type": "stream",
          "text": [
            "100%|██████████| 196/196 [00:26<00:00,  7.46it/s, epoch=3, loss=655]\n"
          ]
        },
        {
          "metadata": {
            "tags": null
          },
          "name": "stdout",
          "output_type": "stream",
          "text": [
            "Total loss:5870.720147494182, loss_ 5593.8656024848015\n"
          ]
        },
        {
          "metadata": {
            "tags": null
          },
          "name": "stderr",
          "output_type": "stream",
          "text": [
            "100%|██████████| 196/196 [00:26<00:00,  7.51it/s, epoch=4, loss=632]\n"
          ]
        },
        {
          "metadata": {
            "tags": null
          },
          "name": "stdout",
          "output_type": "stream",
          "text": [
            "Total loss:5676.750312815057, loss_ 5400.665347868232\n"
          ]
        },
        {
          "metadata": {
            "tags": null
          },
          "name": "stderr",
          "output_type": "stream",
          "text": [
            "100%|██████████| 196/196 [00:26<00:00,  7.43it/s, epoch=5, loss=601]\n"
          ]
        },
        {
          "metadata": {
            "tags": null
          },
          "name": "stdout",
          "output_type": "stream",
          "text": [
            "Total loss:5592.105241336354, loss_ 5317.512875254029\n"
          ]
        },
        {
          "metadata": {
            "tags": null
          },
          "name": "stderr",
          "output_type": "stream",
          "text": [
            "100%|██████████| 196/196 [00:26<00:00,  7.43it/s, epoch=6, loss=571]\n"
          ]
        },
        {
          "metadata": {
            "tags": null
          },
          "name": "stdout",
          "output_type": "stream",
          "text": [
            "Total loss:5494.047621628524, loss_ 5221.127139070874\n"
          ]
        },
        {
          "metadata": {
            "tags": null
          },
          "name": "stderr",
          "output_type": "stream",
          "text": [
            "100%|██████████| 196/196 [00:26<00:00,  7.45it/s, epoch=7, loss=586]\n"
          ]
        },
        {
          "metadata": {
            "tags": null
          },
          "name": "stdout",
          "output_type": "stream",
          "text": [
            "Total loss:5432.212236597639, loss_ 5160.397471640601\n"
          ]
        },
        {
          "metadata": {
            "tags": null
          },
          "name": "stderr",
          "output_type": "stream",
          "text": [
            "100%|██████████| 196/196 [00:26<00:00,  7.47it/s, epoch=8, loss=615]\n"
          ]
        },
        {
          "metadata": {
            "tags": null
          },
          "name": "stdout",
          "output_type": "stream",
          "text": [
            "Total loss:5388.620513007271, loss_ 5117.900527979569\n"
          ]
        },
        {
          "metadata": {
            "tags": null
          },
          "name": "stderr",
          "output_type": "stream",
          "text": [
            "100%|██████████| 196/196 [00:26<00:00,  7.45it/s, epoch=9, loss=589]\n"
          ]
        },
        {
          "metadata": {
            "tags": null
          },
          "name": "stdout",
          "output_type": "stream",
          "text": [
            "Total loss:5334.470823783743, loss_ 5064.94138467503\n"
          ]
        },
        {
          "metadata": {
            "tags": null
          },
          "name": "stderr",
          "output_type": "stream",
          "text": [
            "100%|██████████| 196/196 [00:26<00:00,  7.50it/s, epoch=10, loss=595]\n"
          ]
        },
        {
          "metadata": {
            "tags": null
          },
          "name": "stdout",
          "output_type": "stream",
          "text": [
            "Total loss:5290.208911692208, loss_ 5021.488938536778\n"
          ]
        },
        {
          "metadata": {
            "tags": null
          },
          "name": "stderr",
          "output_type": "stream",
          "text": [
            "100%|██████████| 196/196 [00:26<00:00,  7.28it/s, epoch=11, loss=563]\n"
          ]
        },
        {
          "metadata": {
            "tags": null
          },
          "name": "stdout",
          "output_type": "stream",
          "text": [
            "Total loss:5242.126831999727, loss_ 4974.267504683443\n"
          ]
        },
        {
          "metadata": {
            "tags": null
          },
          "name": "stderr",
          "output_type": "stream",
          "text": [
            "100%|██████████| 196/196 [00:27<00:00,  7.15it/s, epoch=12, loss=662]\n"
          ]
        },
        {
          "metadata": {
            "tags": null
          },
          "name": "stdout",
          "output_type": "stream",
          "text": [
            "Total loss:5190.773603960591, loss_ 4923.689202654749\n"
          ]
        },
        {
          "metadata": {
            "tags": null
          },
          "name": "stderr",
          "output_type": "stream",
          "text": [
            "100%|██████████| 196/196 [00:26<00:00,  7.41it/s, epoch=13, loss=596]\n"
          ]
        },
        {
          "metadata": {
            "tags": null
          },
          "name": "stdout",
          "output_type": "stream",
          "text": [
            "Total loss:5149.879433620141, loss_ 4883.171169911519\n"
          ]
        },
        {
          "metadata": {
            "tags": null
          },
          "name": "stderr",
          "output_type": "stream",
          "text": [
            "100%|██████████| 196/196 [00:26<00:00,  7.40it/s, epoch=14, loss=545]\n"
          ]
        },
        {
          "metadata": {
            "tags": null
          },
          "name": "stdout",
          "output_type": "stream",
          "text": [
            "Total loss:5099.575353379557, loss_ 4833.146342287661\n"
          ]
        },
        {
          "metadata": {
            "tags": null
          },
          "name": "stderr",
          "output_type": "stream",
          "text": [
            "100%|██████████| 196/196 [00:26<00:00,  7.53it/s, epoch=15, loss=562]\n"
          ]
        },
        {
          "metadata": {
            "tags": null
          },
          "name": "stdout",
          "output_type": "stream",
          "text": [
            "Total loss:5079.358817287448, loss_ 4813.018684048636\n"
          ]
        },
        {
          "metadata": {
            "tags": null
          },
          "name": "stderr",
          "output_type": "stream",
          "text": [
            "100%|██████████| 196/196 [00:26<00:00,  7.45it/s, epoch=16, loss=608]\n"
          ]
        },
        {
          "metadata": {
            "tags": null
          },
          "name": "stdout",
          "output_type": "stream",
          "text": [
            "Total loss:5013.960063149989, loss_ 4748.702480310335\n"
          ]
        },
        {
          "metadata": {
            "tags": null
          },
          "name": "stderr",
          "output_type": "stream",
          "text": [
            "100%|██████████| 196/196 [00:26<00:00,  7.41it/s, epoch=17, loss=524]\n"
          ]
        },
        {
          "metadata": {
            "tags": null
          },
          "name": "stdout",
          "output_type": "stream",
          "text": [
            "Total loss:4992.427722881849, loss_ 4727.526721126777\n"
          ]
        },
        {
          "metadata": {
            "tags": null
          },
          "name": "stderr",
          "output_type": "stream",
          "text": [
            "100%|██████████| 196/196 [00:26<00:00,  7.45it/s, epoch=18, loss=494]\n"
          ]
        },
        {
          "metadata": {
            "tags": null
          },
          "name": "stdout",
          "output_type": "stream",
          "text": [
            "Total loss:4965.304768501842, loss_ 4701.0295829752085\n"
          ]
        },
        {
          "metadata": {
            "tags": null
          },
          "name": "stderr",
          "output_type": "stream",
          "text": [
            "100%|██████████| 196/196 [00:26<00:00,  7.46it/s, epoch=19, loss=549]\n"
          ]
        },
        {
          "metadata": {
            "tags": null
          },
          "name": "stdout",
          "output_type": "stream",
          "text": [
            "Total loss:4911.982720673102, loss_ 4648.326322211315\n"
          ]
        },
        {
          "metadata": {
            "tags": null
          },
          "name": "stderr",
          "output_type": "stream",
          "text": [
            "100%|██████████| 196/196 [00:26<00:00,  7.44it/s, epoch=20, loss=554]\n"
          ]
        },
        {
          "metadata": {
            "tags": null
          },
          "name": "stdout",
          "output_type": "stream",
          "text": [
            "Total loss:4889.335363811818, loss_ 4626.321929966142\n"
          ]
        },
        {
          "metadata": {
            "tags": null
          },
          "name": "stderr",
          "output_type": "stream",
          "text": [
            "100%|██████████| 196/196 [00:26<00:00,  7.39it/s, epoch=21, loss=592]\n"
          ]
        },
        {
          "metadata": {
            "tags": null
          },
          "name": "stdout",
          "output_type": "stream",
          "text": [
            "Total loss:4865.947610378192, loss_ 4602.99962202376\n"
          ]
        },
        {
          "metadata": {
            "tags": null
          },
          "name": "stderr",
          "output_type": "stream",
          "text": [
            "100%|██████████| 196/196 [00:26<00:00,  7.53it/s, epoch=22, loss=526]\n"
          ]
        },
        {
          "metadata": {
            "tags": null
          },
          "name": "stdout",
          "output_type": "stream",
          "text": [
            "Total loss:4834.481229755719, loss_ 4572.008506281411\n"
          ]
        },
        {
          "metadata": {
            "tags": null
          },
          "name": "stderr",
          "output_type": "stream",
          "text": [
            "100%|██████████| 196/196 [00:26<00:00,  7.41it/s, epoch=23, loss=515]\n"
          ]
        },
        {
          "metadata": {
            "tags": null
          },
          "name": "stdout",
          "output_type": "stream",
          "text": [
            "Total loss:4796.308651318247, loss_ 4534.3094747479\n"
          ]
        },
        {
          "metadata": {
            "tags": null
          },
          "name": "stderr",
          "output_type": "stream",
          "text": [
            "100%|██████████| 196/196 [00:26<00:00,  7.48it/s, epoch=24, loss=559]\n"
          ]
        },
        {
          "metadata": {
            "tags": null
          },
          "name": "stdout",
          "output_type": "stream",
          "text": [
            "Total loss:4782.653126586363, loss_ 4520.739283081129\n"
          ]
        },
        {
          "metadata": {
            "tags": null
          },
          "name": "stderr",
          "output_type": "stream",
          "text": [
            "100%|██████████| 196/196 [00:26<00:00,  7.45it/s, epoch=25, loss=553]\n"
          ]
        },
        {
          "metadata": {
            "tags": null
          },
          "name": "stdout",
          "output_type": "stream",
          "text": [
            "Total loss:4737.178834523361, loss_ 4476.0049055035115\n"
          ]
        },
        {
          "metadata": {
            "tags": null
          },
          "name": "stderr",
          "output_type": "stream",
          "text": [
            "100%|██████████| 196/196 [00:28<00:00,  6.98it/s, epoch=26, loss=580]\n"
          ]
        },
        {
          "metadata": {
            "tags": null
          },
          "name": "stdout",
          "output_type": "stream",
          "text": [
            "Total loss:4718.809100953868, loss_ 4457.988018274275\n"
          ]
        },
        {
          "metadata": {
            "tags": null
          },
          "name": "stderr",
          "output_type": "stream",
          "text": [
            "100%|██████████| 196/196 [00:26<00:00,  7.26it/s, epoch=27, loss=521]\n"
          ]
        },
        {
          "metadata": {
            "tags": null
          },
          "name": "stdout",
          "output_type": "stream",
          "text": [
            "Total loss:4706.653178381443, loss_ 4445.653891457352\n"
          ]
        },
        {
          "metadata": {
            "tags": null
          },
          "name": "stderr",
          "output_type": "stream",
          "text": [
            "100%|██████████| 196/196 [00:25<00:00,  7.57it/s, epoch=28, loss=486]\n"
          ]
        },
        {
          "metadata": {
            "tags": null
          },
          "name": "stdout",
          "output_type": "stream",
          "text": [
            "Total loss:4688.374886244357, loss_ 4427.863541062211\n"
          ]
        },
        {
          "metadata": {
            "tags": null
          },
          "name": "stderr",
          "output_type": "stream",
          "text": [
            "100%|██████████| 196/196 [00:25<00:00,  7.56it/s, epoch=29, loss=564]\n"
          ]
        },
        {
          "metadata": {
            "tags": null
          },
          "name": "stdout",
          "output_type": "stream",
          "text": [
            "Total loss:4667.597351438814, loss_ 4407.562075843286\n"
          ]
        },
        {
          "metadata": {
            "tags": null
          },
          "name": "stderr",
          "output_type": "stream",
          "text": [
            "100%|██████████| 196/196 [00:25<00:00,  7.56it/s, epoch=30, loss=557]\n"
          ]
        },
        {
          "metadata": {
            "tags": null
          },
          "name": "stdout",
          "output_type": "stream",
          "text": [
            "Total loss:4626.185172801826, loss_ 4366.566449146592\n"
          ]
        },
        {
          "metadata": {
            "tags": null
          },
          "name": "stderr",
          "output_type": "stream",
          "text": [
            "100%|██████████| 196/196 [00:26<00:00,  7.51it/s, epoch=31, loss=511]\n"
          ]
        },
        {
          "metadata": {
            "tags": null
          },
          "name": "stdout",
          "output_type": "stream",
          "text": [
            "Total loss:4611.69279569988, loss_ 4351.977112366152\n"
          ]
        },
        {
          "metadata": {
            "tags": null
          },
          "name": "stderr",
          "output_type": "stream",
          "text": [
            "100%|██████████| 196/196 [00:25<00:00,  7.54it/s, epoch=32, loss=539]\n"
          ]
        },
        {
          "metadata": {
            "tags": null
          },
          "name": "stdout",
          "output_type": "stream",
          "text": [
            "Total loss:4596.2864677969, loss_ 4336.872034531681\n"
          ]
        },
        {
          "metadata": {
            "tags": null
          },
          "name": "stderr",
          "output_type": "stream",
          "text": [
            "100%|██████████| 196/196 [00:26<00:00,  7.54it/s, epoch=33, loss=469]\n"
          ]
        },
        {
          "metadata": {
            "tags": null
          },
          "name": "stdout",
          "output_type": "stream",
          "text": [
            "Total loss:4576.085636531472, loss_ 4317.144409961497\n"
          ]
        },
        {
          "metadata": {
            "tags": null
          },
          "name": "stderr",
          "output_type": "stream",
          "text": [
            "100%|██████████| 196/196 [00:26<00:00,  7.54it/s, epoch=34, loss=488]\n"
          ]
        },
        {
          "metadata": {
            "tags": null
          },
          "name": "stdout",
          "output_type": "stream",
          "text": [
            "Total loss:4557.682945013159, loss_ 4298.807985807065\n"
          ]
        },
        {
          "metadata": {
            "tags": null
          },
          "name": "stderr",
          "output_type": "stream",
          "text": [
            "100%|██████████| 196/196 [00:26<00:00,  7.42it/s, epoch=35, loss=531]\n"
          ]
        },
        {
          "metadata": {
            "tags": null
          },
          "name": "stdout",
          "output_type": "stream",
          "text": [
            "Total loss:4525.050734774466, loss_ 4267.4639084110795\n"
          ]
        },
        {
          "metadata": {
            "tags": null
          },
          "name": "stderr",
          "output_type": "stream",
          "text": [
            "100%|██████████| 196/196 [00:26<00:00,  7.52it/s, epoch=36, loss=525]\n"
          ]
        },
        {
          "metadata": {
            "tags": null
          },
          "name": "stdout",
          "output_type": "stream",
          "text": [
            "Total loss:4499.3128834147865, loss_ 4242.194836479063\n"
          ]
        },
        {
          "metadata": {
            "tags": null
          },
          "name": "stderr",
          "output_type": "stream",
          "text": [
            "100%|██████████| 196/196 [00:25<00:00,  7.55it/s, epoch=37, loss=480]\n"
          ]
        },
        {
          "metadata": {
            "tags": null
          },
          "name": "stdout",
          "output_type": "stream",
          "text": [
            "Total loss:4472.0526605320165, loss_ 4215.861653968868\n"
          ]
        },
        {
          "metadata": {
            "tags": null
          },
          "name": "stderr",
          "output_type": "stream",
          "text": [
            "100%|██████████| 196/196 [00:26<00:00,  7.39it/s, epoch=38, loss=517]\n"
          ]
        },
        {
          "metadata": {
            "tags": null
          },
          "name": "stdout",
          "output_type": "stream",
          "text": [
            "Total loss:4458.096796886538, loss_ 4202.15830487062\n"
          ]
        },
        {
          "metadata": {
            "tags": null
          },
          "name": "stderr",
          "output_type": "stream",
          "text": [
            "100%|██████████| 196/196 [00:26<00:00,  7.53it/s, epoch=39, loss=435]\n"
          ]
        },
        {
          "metadata": {
            "tags": null
          },
          "name": "stdout",
          "output_type": "stream",
          "text": [
            "Total loss:4445.338818370799, loss_ 4190.005315348314\n"
          ]
        },
        {
          "metadata": {
            "tags": null
          },
          "name": "stderr",
          "output_type": "stream",
          "text": [
            "100%|██████████| 196/196 [00:26<00:00,  7.52it/s, epoch=40, loss=500]\n"
          ]
        },
        {
          "metadata": {
            "tags": null
          },
          "name": "stdout",
          "output_type": "stream",
          "text": [
            "Total loss:4437.034671758858, loss_ 4181.8394350467715\n"
          ]
        },
        {
          "metadata": {
            "tags": null
          },
          "name": "stderr",
          "output_type": "stream",
          "text": [
            "100%|██████████| 196/196 [00:25<00:00,  7.55it/s, epoch=41, loss=555]\n"
          ]
        },
        {
          "metadata": {
            "tags": null
          },
          "name": "stdout",
          "output_type": "stream",
          "text": [
            "Total loss:4392.159896953771, loss_ 4138.119828775009\n"
          ]
        },
        {
          "metadata": {
            "tags": null
          },
          "name": "stderr",
          "output_type": "stream",
          "text": [
            "100%|██████████| 196/196 [00:26<00:00,  7.50it/s, epoch=42, loss=553]\n"
          ]
        },
        {
          "metadata": {
            "tags": null
          },
          "name": "stdout",
          "output_type": "stream",
          "text": [
            "Total loss:4364.875739029034, loss_ 4111.326131226622\n"
          ]
        },
        {
          "metadata": {
            "tags": null
          },
          "name": "stderr",
          "output_type": "stream",
          "text": [
            "100%|██████████| 196/196 [00:26<00:00,  7.42it/s, epoch=43, loss=481]\n"
          ]
        },
        {
          "metadata": {
            "tags": null
          },
          "name": "stdout",
          "output_type": "stream",
          "text": [
            "Total loss:4335.193102027538, loss_ 4082.025088707861\n"
          ]
        },
        {
          "metadata": {
            "tags": null
          },
          "name": "stderr",
          "output_type": "stream",
          "text": [
            "100%|██████████| 196/196 [00:26<00:00,  7.53it/s, epoch=44, loss=427]\n"
          ]
        },
        {
          "metadata": {
            "tags": null
          },
          "name": "stdout",
          "output_type": "stream",
          "text": [
            "Total loss:4324.030999081605, loss_ 4071.2877505118827\n"
          ]
        },
        {
          "metadata": {
            "tags": null
          },
          "name": "stderr",
          "output_type": "stream",
          "text": [
            "100%|██████████| 196/196 [00:25<00:00,  7.54it/s, epoch=45, loss=480]\n"
          ]
        },
        {
          "metadata": {
            "tags": null
          },
          "name": "stdout",
          "output_type": "stream",
          "text": [
            "Total loss:4300.78968068137, loss_ 4048.275441117135\n"
          ]
        },
        {
          "metadata": {
            "tags": null
          },
          "name": "stderr",
          "output_type": "stream",
          "text": [
            "100%|██████████| 196/196 [00:26<00:00,  7.53it/s, epoch=46, loss=603]\n"
          ]
        },
        {
          "metadata": {
            "tags": null
          },
          "name": "stdout",
          "output_type": "stream",
          "text": [
            "Total loss:4285.733102452117, loss_ 4033.512548995597\n"
          ]
        },
        {
          "metadata": {
            "tags": null
          },
          "name": "stderr",
          "output_type": "stream",
          "text": [
            "100%|██████████| 196/196 [00:25<00:00,  7.54it/s, epoch=47, loss=390]\n"
          ]
        },
        {
          "metadata": {
            "tags": null
          },
          "name": "stdout",
          "output_type": "stream",
          "text": [
            "Total loss:4262.73808009398, loss_ 4011.145352354996\n"
          ]
        },
        {
          "metadata": {
            "tags": null
          },
          "name": "stderr",
          "output_type": "stream",
          "text": [
            "100%|██████████| 196/196 [00:26<00:00,  7.37it/s, epoch=48, loss=548]\n"
          ]
        },
        {
          "metadata": {
            "tags": null
          },
          "name": "stdout",
          "output_type": "stream",
          "text": [
            "Total loss:4231.70145978932, loss_ 3980.5683198481634\n"
          ]
        },
        {
          "metadata": {
            "tags": null
          },
          "name": "stderr",
          "output_type": "stream",
          "text": [
            "100%|██████████| 196/196 [00:25<00:00,  7.57it/s, epoch=49, loss=497]\n"
          ]
        },
        {
          "metadata": {
            "tags": null
          },
          "name": "stdout",
          "output_type": "stream",
          "text": [
            "Total loss:4234.036101884443, loss_ 3983.5239727430844\n"
          ]
        },
        {
          "metadata": {
            "tags": null
          },
          "name": "stderr",
          "output_type": "stream",
          "text": [
            "100%|██████████| 196/196 [00:25<00:00,  7.54it/s, epoch=50, loss=535]\n"
          ]
        },
        {
          "metadata": {
            "tags": null
          },
          "name": "stdout",
          "output_type": "stream",
          "text": [
            "Total loss:4176.708619721186, loss_ 3927.261962306846\n"
          ]
        },
        {
          "metadata": {
            "tags": null
          },
          "name": "stderr",
          "output_type": "stream",
          "text": [
            "100%|██████████| 196/196 [00:26<00:00,  7.43it/s, epoch=51, loss=416]\n"
          ]
        },
        {
          "metadata": {
            "tags": null
          },
          "name": "stdout",
          "output_type": "stream",
          "text": [
            "Total loss:4170.757817034373, loss_ 3921.7734247125327\n"
          ]
        },
        {
          "metadata": {
            "tags": null
          },
          "name": "stderr",
          "output_type": "stream",
          "text": [
            "100%|██████████| 196/196 [00:26<00:00,  7.47it/s, epoch=52, loss=505]\n"
          ]
        },
        {
          "metadata": {
            "tags": null
          },
          "name": "stdout",
          "output_type": "stream",
          "text": [
            "Total loss:4141.09014701902, loss_ 3892.960178687235\n"
          ]
        },
        {
          "metadata": {
            "tags": null
          },
          "name": "stderr",
          "output_type": "stream",
          "text": [
            "100%|██████████| 196/196 [00:25<00:00,  7.54it/s, epoch=53, loss=524]\n"
          ]
        },
        {
          "metadata": {
            "tags": null
          },
          "name": "stdout",
          "output_type": "stream",
          "text": [
            "Total loss:4115.875687992043, loss_ 3868.7272262025426\n"
          ]
        },
        {
          "metadata": {
            "tags": null
          },
          "name": "stderr",
          "output_type": "stream",
          "text": [
            "100%|██████████| 196/196 [00:26<00:00,  7.48it/s, epoch=54, loss=410]\n"
          ]
        },
        {
          "metadata": {
            "tags": null
          },
          "name": "stdout",
          "output_type": "stream",
          "text": [
            "Total loss:4087.402621320081, loss_ 3840.7422914235053\n"
          ]
        },
        {
          "metadata": {
            "tags": null
          },
          "name": "stderr",
          "output_type": "stream",
          "text": [
            "100%|██████████| 196/196 [00:26<00:00,  7.44it/s, epoch=55, loss=481]\n"
          ]
        },
        {
          "metadata": {
            "tags": null
          },
          "name": "stdout",
          "output_type": "stream",
          "text": [
            "Total loss:4056.8230459504193, loss_ 3811.050123707029\n"
          ]
        },
        {
          "metadata": {
            "tags": null
          },
          "name": "stderr",
          "output_type": "stream",
          "text": [
            "100%|██████████| 196/196 [00:26<00:00,  7.44it/s, epoch=56, loss=446]\n"
          ]
        },
        {
          "metadata": {
            "tags": null
          },
          "name": "stdout",
          "output_type": "stream",
          "text": [
            "Total loss:4042.3231203186415, loss_ 3797.2460533521753\n"
          ]
        },
        {
          "metadata": {
            "tags": null
          },
          "name": "stderr",
          "output_type": "stream",
          "text": [
            "100%|██████████| 196/196 [00:26<00:00,  7.48it/s, epoch=57, loss=457]\n"
          ]
        },
        {
          "metadata": {
            "tags": null
          },
          "name": "stdout",
          "output_type": "stream",
          "text": [
            "Total loss:4027.574570321194, loss_ 3782.8288881303183\n"
          ]
        },
        {
          "metadata": {
            "tags": null
          },
          "name": "stderr",
          "output_type": "stream",
          "text": [
            "100%|██████████| 196/196 [00:27<00:00,  7.17it/s, epoch=58, loss=560]\n"
          ]
        },
        {
          "metadata": {
            "tags": null
          },
          "name": "stdout",
          "output_type": "stream",
          "text": [
            "Total loss:4007.6558900774817, loss_ 3763.5589776545235\n"
          ]
        },
        {
          "metadata": {
            "tags": null
          },
          "name": "stderr",
          "output_type": "stream",
          "text": [
            "100%|██████████| 196/196 [00:26<00:00,  7.37it/s, epoch=59, loss=424]\n"
          ]
        },
        {
          "metadata": {
            "tags": null
          },
          "name": "stdout",
          "output_type": "stream",
          "text": [
            "Total loss:3987.7764260007953, loss_ 3744.7954914295497\n"
          ]
        },
        {
          "metadata": {
            "tags": null
          },
          "name": "stderr",
          "output_type": "stream",
          "text": [
            "100%|██████████| 196/196 [00:26<00:00,  7.45it/s, epoch=60, loss=415]\n"
          ]
        },
        {
          "metadata": {
            "tags": null
          },
          "name": "stdout",
          "output_type": "stream",
          "text": [
            "Total loss:3937.924973502117, loss_ 3696.5135654086057\n"
          ]
        },
        {
          "metadata": {
            "tags": null
          },
          "name": "stderr",
          "output_type": "stream",
          "text": [
            "100%|██████████| 196/196 [00:26<00:00,  7.50it/s, epoch=61, loss=444]\n"
          ]
        },
        {
          "metadata": {
            "tags": null
          },
          "name": "stdout",
          "output_type": "stream",
          "text": [
            "Total loss:3938.5978568857436, loss_ 3697.358290900203\n"
          ]
        },
        {
          "metadata": {
            "tags": null
          },
          "name": "stderr",
          "output_type": "stream",
          "text": [
            "100%|██████████| 196/196 [00:26<00:00,  7.47it/s, epoch=62, loss=355]\n"
          ]
        },
        {
          "metadata": {
            "tags": null
          },
          "name": "stdout",
          "output_type": "stream",
          "text": [
            "Total loss:3916.067536748042, loss_ 3675.6375638074815\n"
          ]
        },
        {
          "metadata": {
            "tags": null
          },
          "name": "stderr",
          "output_type": "stream",
          "text": [
            "100%|██████████| 196/196 [00:26<00:00,  7.47it/s, epoch=63, loss=511]\n"
          ]
        },
        {
          "metadata": {
            "tags": null
          },
          "name": "stdout",
          "output_type": "stream",
          "text": [
            "Total loss:3876.562957174894, loss_ 3637.425298802678\n"
          ]
        },
        {
          "metadata": {
            "tags": null
          },
          "name": "stderr",
          "output_type": "stream",
          "text": [
            "100%|██████████| 196/196 [00:26<00:00,  7.51it/s, epoch=64, loss=403]\n"
          ]
        },
        {
          "metadata": {
            "tags": null
          },
          "name": "stdout",
          "output_type": "stream",
          "text": [
            "Total loss:3886.872962990428, loss_ 3647.830160880417\n"
          ]
        },
        {
          "metadata": {
            "tags": null
          },
          "name": "stderr",
          "output_type": "stream",
          "text": [
            "100%|██████████| 196/196 [00:26<00:00,  7.42it/s, epoch=65, loss=419]\n"
          ]
        },
        {
          "metadata": {
            "tags": null
          },
          "name": "stdout",
          "output_type": "stream",
          "text": [
            "Total loss:3846.955490293019, loss_ 3608.679750934624\n"
          ]
        },
        {
          "metadata": {
            "tags": null
          },
          "name": "stderr",
          "output_type": "stream",
          "text": [
            "100%|██████████| 196/196 [00:26<00:00,  7.39it/s, epoch=66, loss=476]\n"
          ]
        },
        {
          "metadata": {
            "tags": null
          },
          "name": "stdout",
          "output_type": "stream",
          "text": [
            "Total loss:3828.02814169822, loss_ 3590.5426579837076\n"
          ]
        },
        {
          "metadata": {
            "tags": null
          },
          "name": "stderr",
          "output_type": "stream",
          "text": [
            "100%|██████████| 196/196 [00:26<00:00,  7.44it/s, epoch=67, loss=474]\n"
          ]
        },
        {
          "metadata": {
            "tags": null
          },
          "name": "stdout",
          "output_type": "stream",
          "text": [
            "Total loss:3801.522572989385, loss_ 3564.9071889848337\n"
          ]
        },
        {
          "metadata": {
            "tags": null
          },
          "name": "stderr",
          "output_type": "stream",
          "text": [
            "100%|██████████| 196/196 [00:26<00:00,  7.50it/s, epoch=68, loss=488]\n"
          ]
        },
        {
          "metadata": {
            "tags": null
          },
          "name": "stdout",
          "output_type": "stream",
          "text": [
            "Total loss:3779.5098841746944, loss_ 3543.512444965397\n"
          ]
        },
        {
          "metadata": {
            "tags": null
          },
          "name": "stderr",
          "output_type": "stream",
          "text": [
            "100%|██████████| 196/196 [00:26<00:00,  7.32it/s, epoch=69, loss=450]\n"
          ]
        },
        {
          "metadata": {
            "tags": null
          },
          "name": "stdout",
          "output_type": "stream",
          "text": [
            "Total loss:3763.520283255387, loss_ 3527.8986674757434\n"
          ]
        },
        {
          "metadata": {
            "tags": null
          },
          "name": "stderr",
          "output_type": "stream",
          "text": [
            "100%|██████████| 196/196 [00:26<00:00,  7.51it/s, epoch=70, loss=478]\n"
          ]
        },
        {
          "metadata": {
            "tags": null
          },
          "name": "stdout",
          "output_type": "stream",
          "text": [
            "Total loss:3722.4615390169993, loss_ 3488.261919100979\n"
          ]
        },
        {
          "metadata": {
            "tags": null
          },
          "name": "stderr",
          "output_type": "stream",
          "text": [
            "100%|██████████| 196/196 [00:26<00:00,  7.48it/s, epoch=71, loss=498]\n"
          ]
        },
        {
          "metadata": {
            "tags": null
          },
          "name": "stdout",
          "output_type": "stream",
          "text": [
            "Total loss:3708.6093760218864, loss_ 3473.9333565868587\n"
          ]
        },
        {
          "metadata": {
            "tags": null
          },
          "name": "stderr",
          "output_type": "stream",
          "text": [
            "100%|██████████| 196/196 [00:26<00:00,  7.44it/s, epoch=72, loss=477]\n"
          ]
        },
        {
          "metadata": {
            "tags": null
          },
          "name": "stdout",
          "output_type": "stream",
          "text": [
            "Total loss:3686.361624925656, loss_ 3452.7535856146546\n"
          ]
        },
        {
          "metadata": {
            "tags": null
          },
          "name": "stderr",
          "output_type": "stream",
          "text": [
            "100%|██████████| 196/196 [00:26<00:00,  7.37it/s, epoch=73, loss=420]\n"
          ]
        },
        {
          "metadata": {
            "tags": null
          },
          "name": "stdout",
          "output_type": "stream",
          "text": [
            "Total loss:3666.324659265335, loss_ 3433.4891200897955\n"
          ]
        },
        {
          "metadata": {
            "tags": null
          },
          "name": "stderr",
          "output_type": "stream",
          "text": [
            "100%|██████████| 196/196 [00:26<00:00,  7.47it/s, epoch=74, loss=406]\n"
          ]
        },
        {
          "metadata": {
            "tags": null
          },
          "name": "stdout",
          "output_type": "stream",
          "text": [
            "Total loss:3643.851926276213, loss_ 3411.769147618026\n"
          ]
        },
        {
          "metadata": {
            "tags": null
          },
          "name": "stderr",
          "output_type": "stream",
          "text": [
            "100%|██████████| 196/196 [00:26<00:00,  7.50it/s, epoch=75, loss=409]\n"
          ]
        },
        {
          "metadata": {
            "tags": null
          },
          "name": "stdout",
          "output_type": "stream",
          "text": [
            "Total loss:3614.377381142292, loss_ 3382.861101376753\n"
          ]
        },
        {
          "metadata": {
            "tags": null
          },
          "name": "stderr",
          "output_type": "stream",
          "text": [
            "100%|██████████| 196/196 [00:26<00:00,  7.49it/s, epoch=76, loss=339]\n"
          ]
        },
        {
          "metadata": {
            "tags": null
          },
          "name": "stdout",
          "output_type": "stream",
          "text": [
            "Total loss:3597.2233675898233, loss_ 3366.1032439017677\n"
          ]
        },
        {
          "metadata": {
            "tags": null
          },
          "name": "stderr",
          "output_type": "stream",
          "text": [
            "100%|██████████| 196/196 [00:26<00:00,  7.46it/s, epoch=77, loss=427]\n"
          ]
        },
        {
          "metadata": {
            "tags": null
          },
          "name": "stdout",
          "output_type": "stream",
          "text": [
            "Total loss:3559.379788595373, loss_ 3329.099880006418\n"
          ]
        },
        {
          "metadata": {
            "tags": null
          },
          "name": "stderr",
          "output_type": "stream",
          "text": [
            "100%|██████████| 196/196 [00:26<00:00,  7.46it/s, epoch=78, loss=413]\n"
          ]
        },
        {
          "metadata": {
            "tags": null
          },
          "name": "stdout",
          "output_type": "stream",
          "text": [
            "Total loss:3548.6752140859544, loss_ 3319.0639954972626\n"
          ]
        },
        {
          "metadata": {
            "tags": null
          },
          "name": "stderr",
          "output_type": "stream",
          "text": [
            "100%|██████████| 196/196 [00:26<00:00,  7.33it/s, epoch=79, loss=424]\n"
          ]
        },
        {
          "metadata": {
            "tags": null
          },
          "name": "stdout",
          "output_type": "stream",
          "text": [
            "Total loss:3540.3421856854457, loss_ 3311.1184665751516\n"
          ]
        },
        {
          "metadata": {
            "tags": null
          },
          "name": "stderr",
          "output_type": "stream",
          "text": [
            "100%|██████████| 196/196 [00:26<00:00,  7.40it/s, epoch=80, loss=447]\n"
          ]
        },
        {
          "metadata": {
            "tags": null
          },
          "name": "stdout",
          "output_type": "stream",
          "text": [
            "Total loss:3542.192299722357, loss_ 3312.763677028925\n"
          ]
        },
        {
          "metadata": {
            "tags": null
          },
          "name": "stderr",
          "output_type": "stream",
          "text": [
            "100%|██████████| 196/196 [00:26<00:00,  7.44it/s, epoch=81, loss=315]\n"
          ]
        },
        {
          "metadata": {
            "tags": null
          },
          "name": "stdout",
          "output_type": "stream",
          "text": [
            "Total loss:3482.4617066393844, loss_ 3254.6178137050138\n"
          ]
        },
        {
          "metadata": {
            "tags": null
          },
          "name": "stderr",
          "output_type": "stream",
          "text": [
            "100%|██████████| 196/196 [00:26<00:00,  7.45it/s, epoch=82, loss=427]\n"
          ]
        },
        {
          "metadata": {
            "tags": null
          },
          "name": "stdout",
          "output_type": "stream",
          "text": [
            "Total loss:3450.66113540925, loss_ 3223.893181225166\n"
          ]
        },
        {
          "metadata": {
            "tags": null
          },
          "name": "stderr",
          "output_type": "stream",
          "text": [
            "100%|██████████| 196/196 [00:26<00:00,  7.47it/s, epoch=83, loss=389]\n"
          ]
        },
        {
          "metadata": {
            "tags": null
          },
          "name": "stdout",
          "output_type": "stream",
          "text": [
            "Total loss:3429.6979706771403, loss_ 3203.5549207752947\n"
          ]
        },
        {
          "metadata": {
            "tags": null
          },
          "name": "stderr",
          "output_type": "stream",
          "text": [
            "100%|██████████| 196/196 [00:26<00:00,  7.50it/s, epoch=84, loss=394]\n"
          ]
        },
        {
          "metadata": {
            "tags": null
          },
          "name": "stdout",
          "output_type": "stream",
          "text": [
            "Total loss:3414.9029259071735, loss_ 3189.253490474584\n"
          ]
        },
        {
          "metadata": {
            "tags": null
          },
          "name": "stderr",
          "output_type": "stream",
          "text": [
            "100%|██████████| 196/196 [00:26<00:00,  7.45it/s, epoch=85, loss=391]\n"
          ]
        },
        {
          "metadata": {
            "tags": null
          },
          "name": "stdout",
          "output_type": "stream",
          "text": [
            "Total loss:3390.407067447686, loss_ 3165.2599598757156\n"
          ]
        },
        {
          "metadata": {
            "tags": null
          },
          "name": "stderr",
          "output_type": "stream",
          "text": [
            "100%|██████████| 196/196 [00:26<00:00,  7.46it/s, epoch=86, loss=356]\n"
          ]
        },
        {
          "metadata": {
            "tags": null
          },
          "name": "stdout",
          "output_type": "stream",
          "text": [
            "Total loss:3364.0680677773694, loss_ 3139.0246031556517\n"
          ]
        },
        {
          "metadata": {
            "tags": null
          },
          "name": "stderr",
          "output_type": "stream",
          "text": [
            "100%|██████████| 196/196 [00:26<00:00,  7.44it/s, epoch=87, loss=299]\n"
          ]
        },
        {
          "metadata": {
            "tags": null
          },
          "name": "stdout",
          "output_type": "stream",
          "text": [
            "Total loss:3339.240183397203, loss_ 3115.307127791997\n"
          ]
        },
        {
          "metadata": {
            "tags": null
          },
          "name": "stderr",
          "output_type": "stream",
          "text": [
            "100%|██████████| 196/196 [00:26<00:00,  7.35it/s, epoch=88, loss=399]\n"
          ]
        },
        {
          "metadata": {
            "tags": null
          },
          "name": "stdout",
          "output_type": "stream",
          "text": [
            "Total loss:3360.532221047722, loss_ 3135.2077604537\n"
          ]
        },
        {
          "metadata": {
            "tags": null
          },
          "name": "stderr",
          "output_type": "stream",
          "text": [
            "100%|██████████| 196/196 [00:26<00:00,  7.37it/s, epoch=89, loss=375]\n"
          ]
        },
        {
          "metadata": {
            "tags": null
          },
          "name": "stdout",
          "output_type": "stream",
          "text": [
            "Total loss:3286.916924407642, loss_ 3064.1136096147757\n"
          ]
        },
        {
          "metadata": {
            "tags": null
          },
          "name": "stderr",
          "output_type": "stream",
          "text": [
            "100%|██████████| 196/196 [00:26<00:00,  7.36it/s, epoch=90, loss=367]\n"
          ]
        },
        {
          "metadata": {
            "tags": null
          },
          "name": "stdout",
          "output_type": "stream",
          "text": [
            "Total loss:3249.9335880072567, loss_ 3027.8140889953406\n"
          ]
        },
        {
          "metadata": {
            "tags": null
          },
          "name": "stderr",
          "output_type": "stream",
          "text": [
            "100%|██████████| 196/196 [00:26<00:00,  7.45it/s, epoch=91, loss=362]\n"
          ]
        },
        {
          "metadata": {
            "tags": null
          },
          "name": "stdout",
          "output_type": "stream",
          "text": [
            "Total loss:3251.3569621790894, loss_ 3028.9442777579407\n"
          ]
        },
        {
          "metadata": {
            "tags": null
          },
          "name": "stderr",
          "output_type": "stream",
          "text": [
            "100%|██████████| 196/196 [00:26<00:00,  7.45it/s, epoch=92, loss=422]\n"
          ]
        },
        {
          "metadata": {
            "tags": null
          },
          "name": "stdout",
          "output_type": "stream",
          "text": [
            "Total loss:3230.1576532217273, loss_ 3008.23746241057\n"
          ]
        },
        {
          "metadata": {
            "tags": null
          },
          "name": "stderr",
          "output_type": "stream",
          "text": [
            "100%|██████████| 196/196 [00:26<00:00,  7.45it/s, epoch=93, loss=413]\n"
          ]
        },
        {
          "metadata": {
            "tags": null
          },
          "name": "stdout",
          "output_type": "stream",
          "text": [
            "Total loss:3209.462306350799, loss_ 2987.7061237775183\n"
          ]
        },
        {
          "metadata": {
            "tags": null
          },
          "name": "stderr",
          "output_type": "stream",
          "text": [
            "100%|██████████| 196/196 [00:26<00:00,  7.27it/s, epoch=94, loss=366]\n"
          ]
        },
        {
          "metadata": {
            "tags": null
          },
          "name": "stdout",
          "output_type": "stream",
          "text": [
            "Total loss:3169.245134663124, loss_ 2948.477737502691\n"
          ]
        },
        {
          "metadata": {
            "tags": null
          },
          "name": "stderr",
          "output_type": "stream",
          "text": [
            "100%|██████████| 196/196 [00:26<00:00,  7.39it/s, epoch=95, loss=436]\n"
          ]
        },
        {
          "metadata": {
            "tags": null
          },
          "name": "stdout",
          "output_type": "stream",
          "text": [
            "Total loss:3133.75775920801, loss_ 2913.1084732103473\n"
          ]
        },
        {
          "metadata": {
            "tags": null
          },
          "name": "stderr",
          "output_type": "stream",
          "text": [
            "100%|██████████| 196/196 [00:26<00:00,  7.48it/s, epoch=96, loss=381]\n"
          ]
        },
        {
          "metadata": {
            "tags": null
          },
          "name": "stdout",
          "output_type": "stream",
          "text": [
            "Total loss:3099.773123094469, loss_ 2880.45157140174\n"
          ]
        },
        {
          "metadata": {
            "tags": null
          },
          "name": "stderr",
          "output_type": "stream",
          "text": [
            "100%|██████████| 196/196 [00:26<00:00,  7.42it/s, epoch=97, loss=315]\n"
          ]
        },
        {
          "metadata": {
            "tags": null
          },
          "name": "stdout",
          "output_type": "stream",
          "text": [
            "Total loss:3100.8765319902113, loss_ 2881.2099222455745\n"
          ]
        },
        {
          "metadata": {
            "tags": null
          },
          "name": "stderr",
          "output_type": "stream",
          "text": [
            "100%|██████████| 196/196 [00:26<00:00,  7.50it/s, epoch=98, loss=307]\n"
          ]
        },
        {
          "metadata": {
            "tags": null
          },
          "name": "stdout",
          "output_type": "stream",
          "text": [
            "Total loss:3070.5584082619157, loss_ 2851.838543397177\n"
          ]
        },
        {
          "metadata": {
            "tags": null
          },
          "name": "stderr",
          "output_type": "stream",
          "text": [
            "100%|██████████| 196/196 [00:27<00:00,  7.26it/s, epoch=99, loss=300]\n"
          ]
        },
        {
          "metadata": {
            "tags": null
          },
          "name": "stdout",
          "output_type": "stream",
          "text": [
            "Total loss:3069.2422321414483, loss_ 2850.205681424971\n"
          ]
        },
        {
          "metadata": {
            "tags": null
          },
          "name": "stderr",
          "output_type": "stream",
          "text": [
            "100%|██████████| 196/196 [00:26<00:00,  7.51it/s, epoch=100, loss=423]\n"
          ]
        },
        {
          "metadata": {
            "tags": null
          },
          "name": "stdout",
          "output_type": "stream",
          "text": [
            "Total loss:3007.6434666901296, loss_ 2789.576904854977\n"
          ]
        },
        {
          "metadata": {
            "tags": null
          },
          "name": "stderr",
          "output_type": "stream",
          "text": [
            "100%|██████████| 196/196 [00:26<00:00,  7.40it/s, epoch=101, loss=315]\n"
          ]
        },
        {
          "metadata": {
            "tags": null
          },
          "name": "stdout",
          "output_type": "stream",
          "text": [
            "Total loss:3044.5609776982797, loss_ 2825.784893732589\n"
          ]
        },
        {
          "metadata": {
            "tags": null
          },
          "name": "stderr",
          "output_type": "stream",
          "text": [
            "100%|██████████| 196/196 [00:26<00:00,  7.38it/s, epoch=102, loss=292]\n"
          ]
        },
        {
          "metadata": {
            "tags": null
          },
          "name": "stdout",
          "output_type": "stream",
          "text": [
            "Total loss:2998.4256293807366, loss_ 2780.4894530028378\n"
          ]
        },
        {
          "metadata": {
            "tags": null
          },
          "name": "stderr",
          "output_type": "stream",
          "text": [
            "100%|██████████| 196/196 [00:26<00:00,  7.43it/s, epoch=103, loss=336]\n"
          ]
        },
        {
          "metadata": {
            "tags": null
          },
          "name": "stdout",
          "output_type": "stream",
          "text": [
            "Total loss:2994.166283280644, loss_ 2776.292550227239\n"
          ]
        },
        {
          "metadata": {
            "tags": null
          },
          "name": "stderr",
          "output_type": "stream",
          "text": [
            "100%|██████████| 196/196 [00:26<00:00,  7.33it/s, epoch=104, loss=413]\n"
          ]
        },
        {
          "metadata": {
            "tags": null
          },
          "name": "stdout",
          "output_type": "stream",
          "text": [
            "Total loss:2947.947755833068, loss_ 2731.0033776224946\n"
          ]
        },
        {
          "metadata": {
            "tags": null
          },
          "name": "stderr",
          "output_type": "stream",
          "text": [
            "100%|██████████| 196/196 [00:26<00:00,  7.41it/s, epoch=105, loss=386]\n"
          ]
        },
        {
          "metadata": {
            "tags": null
          },
          "name": "stdout",
          "output_type": "stream",
          "text": [
            "Total loss:2939.0331720566223, loss_ 2722.423707060908\n"
          ]
        },
        {
          "metadata": {
            "tags": null
          },
          "name": "stderr",
          "output_type": "stream",
          "text": [
            "100%|██████████| 196/196 [00:26<00:00,  7.42it/s, epoch=106, loss=386]\n"
          ]
        },
        {
          "metadata": {
            "tags": null
          },
          "name": "stdout",
          "output_type": "stream",
          "text": [
            "Total loss:2874.205452024229, loss_ 2658.464356695412\n"
          ]
        },
        {
          "metadata": {
            "tags": null
          },
          "name": "stderr",
          "output_type": "stream",
          "text": [
            "100%|██████████| 196/196 [00:26<00:00,  7.44it/s, epoch=107, loss=425]\n"
          ]
        },
        {
          "metadata": {
            "tags": null
          },
          "name": "stdout",
          "output_type": "stream",
          "text": [
            "Total loss:2867.3929137373043, loss_ 2651.917678362698\n"
          ]
        },
        {
          "metadata": {
            "tags": null
          },
          "name": "stderr",
          "output_type": "stream",
          "text": [
            "100%|██████████| 196/196 [00:26<00:00,  7.34it/s, epoch=108, loss=382]\n"
          ]
        },
        {
          "metadata": {
            "tags": null
          },
          "name": "stdout",
          "output_type": "stream",
          "text": [
            "Total loss:2848.3967428480087, loss_ 2632.806695595588\n"
          ]
        },
        {
          "metadata": {
            "tags": null
          },
          "name": "stderr",
          "output_type": "stream",
          "text": [
            "100%|██████████| 196/196 [00:27<00:00,  7.26it/s, epoch=109, loss=333]\n"
          ]
        },
        {
          "metadata": {
            "tags": null
          },
          "name": "stdout",
          "output_type": "stream",
          "text": [
            "Total loss:2871.95748850181, loss_ 2656.258679520361\n"
          ]
        },
        {
          "metadata": {
            "tags": null
          },
          "name": "stderr",
          "output_type": "stream",
          "text": [
            "100%|██████████| 196/196 [00:26<00:00,  7.46it/s, epoch=110, loss=290]\n"
          ]
        },
        {
          "metadata": {
            "tags": null
          },
          "name": "stdout",
          "output_type": "stream",
          "text": [
            "Total loss:2810.111771135885, loss_ 2595.32868420345\n"
          ]
        },
        {
          "metadata": {
            "tags": null
          },
          "name": "stderr",
          "output_type": "stream",
          "text": [
            "100%|██████████| 196/196 [00:26<00:00,  7.47it/s, epoch=111, loss=362]\n"
          ]
        },
        {
          "metadata": {
            "tags": null
          },
          "name": "stdout",
          "output_type": "stream",
          "text": [
            "Total loss:2787.4350193690093, loss_ 2572.9991435736833\n"
          ]
        },
        {
          "metadata": {
            "tags": null
          },
          "name": "stderr",
          "output_type": "stream",
          "text": [
            "100%|██████████| 196/196 [00:26<00:00,  7.47it/s, epoch=112, loss=433]\n"
          ]
        },
        {
          "metadata": {
            "tags": null
          },
          "name": "stdout",
          "output_type": "stream",
          "text": [
            "Total loss:2785.0392897431516, loss_ 2570.6792663224664\n"
          ]
        },
        {
          "metadata": {
            "tags": null
          },
          "name": "stderr",
          "output_type": "stream",
          "text": [
            "100%|██████████| 196/196 [00:26<00:00,  7.48it/s, epoch=113, loss=271]\n"
          ]
        },
        {
          "metadata": {
            "tags": null
          },
          "name": "stdout",
          "output_type": "stream",
          "text": [
            "Total loss:2775.020531028341, loss_ 2560.623028635203\n"
          ]
        },
        {
          "metadata": {
            "tags": null
          },
          "name": "stderr",
          "output_type": "stream",
          "text": [
            "100%|██████████| 196/196 [00:26<00:00,  7.50it/s, epoch=114, loss=420]\n"
          ]
        },
        {
          "metadata": {
            "tags": null
          },
          "name": "stdout",
          "output_type": "stream",
          "text": [
            "Total loss:2737.6020696312057, loss_ 2523.9457181524745\n"
          ]
        },
        {
          "metadata": {
            "tags": null
          },
          "name": "stderr",
          "output_type": "stream",
          "text": [
            "100%|██████████| 196/196 [00:26<00:00,  7.44it/s, epoch=115, loss=381]\n"
          ]
        },
        {
          "metadata": {
            "tags": null
          },
          "name": "stdout",
          "output_type": "stream",
          "text": [
            "Total loss:2748.1596534852797, loss_ 2534.1527989803244\n"
          ]
        },
        {
          "metadata": {
            "tags": null
          },
          "name": "stderr",
          "output_type": "stream",
          "text": [
            "100%|██████████| 196/196 [00:26<00:00,  7.47it/s, epoch=116, loss=331]\n"
          ]
        },
        {
          "metadata": {
            "tags": null
          },
          "name": "stdout",
          "output_type": "stream",
          "text": [
            "Total loss:2664.3342928712586, loss_ 2451.970487956745\n"
          ]
        },
        {
          "metadata": {
            "tags": null
          },
          "name": "stderr",
          "output_type": "stream",
          "text": [
            "100%|██████████| 196/196 [00:25<00:00,  7.62it/s, epoch=117, loss=303]\n"
          ]
        },
        {
          "metadata": {
            "tags": null
          },
          "name": "stdout",
          "output_type": "stream",
          "text": [
            "Total loss:2701.156212948418, loss_ 2487.9807810546213\n"
          ]
        },
        {
          "metadata": {
            "tags": null
          },
          "name": "stderr",
          "output_type": "stream",
          "text": [
            "100%|██████████| 196/196 [00:26<00:00,  7.45it/s, epoch=118, loss=255]\n"
          ]
        },
        {
          "metadata": {
            "tags": null
          },
          "name": "stdout",
          "output_type": "stream",
          "text": [
            "Total loss:2636.9083321716953, loss_ 2425.2491896191054\n"
          ]
        },
        {
          "metadata": {
            "tags": null
          },
          "name": "stderr",
          "output_type": "stream",
          "text": [
            "100%|██████████| 196/196 [00:25<00:00,  7.61it/s, epoch=119, loss=330]\n"
          ]
        },
        {
          "metadata": {
            "tags": null
          },
          "name": "stdout",
          "output_type": "stream",
          "text": [
            "Total loss:2639.2249129756387, loss_ 2427.2100602961323\n"
          ]
        },
        {
          "metadata": {
            "tags": null
          },
          "name": "stderr",
          "output_type": "stream",
          "text": [
            "100%|██████████| 196/196 [00:26<00:00,  7.51it/s, epoch=120, loss=370]\n"
          ]
        },
        {
          "metadata": {
            "tags": null
          },
          "name": "stdout",
          "output_type": "stream",
          "text": [
            "Total loss:2618.047603589908, loss_ 2406.3664095180407\n"
          ]
        },
        {
          "metadata": {
            "tags": null
          },
          "name": "stderr",
          "output_type": "stream",
          "text": [
            "100%|██████████| 196/196 [00:26<00:00,  7.40it/s, epoch=121, loss=370]\n"
          ]
        },
        {
          "metadata": {
            "tags": null
          },
          "name": "stdout",
          "output_type": "stream",
          "text": [
            "Total loss:2597.897485347676, loss_ 2386.635635613429\n"
          ]
        },
        {
          "metadata": {
            "tags": null
          },
          "name": "stderr",
          "output_type": "stream",
          "text": [
            "100%|██████████| 196/196 [00:26<00:00,  7.39it/s, epoch=122, loss=295]\n"
          ]
        },
        {
          "metadata": {
            "tags": null
          },
          "name": "stdout",
          "output_type": "stream",
          "text": [
            "Total loss:2593.466977640715, loss_ 2382.2495785106526\n"
          ]
        },
        {
          "metadata": {
            "tags": null
          },
          "name": "stderr",
          "output_type": "stream",
          "text": [
            "100%|██████████| 196/196 [00:25<00:00,  7.61it/s, epoch=123, loss=318]\n"
          ]
        },
        {
          "metadata": {
            "tags": null
          },
          "name": "stdout",
          "output_type": "stream",
          "text": [
            "Total loss:2566.595565873362, loss_ 2355.8978383196636\n"
          ]
        },
        {
          "metadata": {
            "tags": null
          },
          "name": "stderr",
          "output_type": "stream",
          "text": [
            "100%|██████████| 196/196 [00:25<00:00,  7.58it/s, epoch=124, loss=243]\n"
          ]
        },
        {
          "metadata": {
            "tags": null
          },
          "name": "stdout",
          "output_type": "stream",
          "text": [
            "Total loss:2555.462624011641, loss_ 2345.1270758443143\n"
          ]
        },
        {
          "metadata": {
            "tags": null
          },
          "name": "stderr",
          "output_type": "stream",
          "text": [
            "100%|██████████| 196/196 [00:25<00:00,  7.61it/s, epoch=125, loss=241]\n"
          ]
        },
        {
          "metadata": {
            "tags": null
          },
          "name": "stdout",
          "output_type": "stream",
          "text": [
            "Total loss:2541.4287686850525, loss_ 2331.2794594099514\n"
          ]
        },
        {
          "metadata": {
            "tags": null
          },
          "name": "stderr",
          "output_type": "stream",
          "text": [
            "100%|██████████| 196/196 [00:25<00:00,  7.58it/s, epoch=126, loss=306]\n"
          ]
        },
        {
          "metadata": {
            "tags": null
          },
          "name": "stdout",
          "output_type": "stream",
          "text": [
            "Total loss:2488.831028060675, loss_ 2279.651950639759\n"
          ]
        },
        {
          "metadata": {
            "tags": null
          },
          "name": "stderr",
          "output_type": "stream",
          "text": [
            "100%|██████████| 196/196 [00:25<00:00,  7.57it/s, epoch=127, loss=274]\n"
          ]
        },
        {
          "metadata": {
            "tags": null
          },
          "name": "stdout",
          "output_type": "stream",
          "text": [
            "Total loss:2508.7019544693067, loss_ 2298.838336513885\n"
          ]
        },
        {
          "metadata": {
            "tags": null
          },
          "name": "stderr",
          "output_type": "stream",
          "text": [
            "100%|██████████| 196/196 [00:26<00:00,  7.36it/s, epoch=128, loss=270]\n"
          ]
        },
        {
          "metadata": {
            "tags": null
          },
          "name": "stdout",
          "output_type": "stream",
          "text": [
            "Total loss:2504.063666975218, loss_ 2294.347436232433\n"
          ]
        },
        {
          "metadata": {
            "tags": null
          },
          "name": "stderr",
          "output_type": "stream",
          "text": [
            "100%|██████████| 196/196 [00:25<00:00,  7.59it/s, epoch=129, loss=283]\n"
          ]
        },
        {
          "metadata": {
            "tags": null
          },
          "name": "stdout",
          "output_type": "stream",
          "text": [
            "Total loss:2496.136274795333, loss_ 2286.3415723043518\n"
          ]
        },
        {
          "metadata": {
            "tags": null
          },
          "name": "stderr",
          "output_type": "stream",
          "text": [
            "100%|██████████| 196/196 [00:25<00:00,  7.62it/s, epoch=130, loss=356]\n"
          ]
        },
        {
          "metadata": {
            "tags": null
          },
          "name": "stdout",
          "output_type": "stream",
          "text": [
            "Total loss:2450.118479453744, loss_ 2241.2109466255492\n"
          ]
        },
        {
          "metadata": {
            "tags": null
          },
          "name": "stderr",
          "output_type": "stream",
          "text": [
            "100%|██████████| 196/196 [00:25<00:00,  7.61it/s, epoch=131, loss=386]\n"
          ]
        },
        {
          "metadata": {
            "tags": null
          },
          "name": "stdout",
          "output_type": "stream",
          "text": [
            "Total loss:2448.8197646224617, loss_ 2239.7150483020346\n"
          ]
        },
        {
          "metadata": {
            "tags": null
          },
          "name": "stderr",
          "output_type": "stream",
          "text": [
            "100%|██████████| 196/196 [00:25<00:00,  7.54it/s, epoch=132, loss=315]\n"
          ]
        },
        {
          "metadata": {
            "tags": null
          },
          "name": "stdout",
          "output_type": "stream",
          "text": [
            "Total loss:2428.491374115718, loss_ 2220.27637637651\n"
          ]
        },
        {
          "metadata": {
            "tags": null
          },
          "name": "stderr",
          "output_type": "stream",
          "text": [
            "100%|██████████| 196/196 [00:25<00:00,  7.58it/s, epoch=133, loss=304]\n"
          ]
        },
        {
          "metadata": {
            "tags": null
          },
          "name": "stdout",
          "output_type": "stream",
          "text": [
            "Total loss:2461.0046914543395, loss_ 2250.976331359997\n"
          ]
        },
        {
          "metadata": {
            "tags": null
          },
          "name": "stderr",
          "output_type": "stream",
          "text": [
            "100%|██████████| 196/196 [00:26<00:00,  7.45it/s, epoch=134, loss=312]\n"
          ]
        },
        {
          "metadata": {
            "tags": null
          },
          "name": "stdout",
          "output_type": "stream",
          "text": [
            "Total loss:2397.7854189924064, loss_ 2189.8748875786087\n"
          ]
        },
        {
          "output_type": "stream",
          "name": "stderr",
          "text": [
            "100%|██████████| 196/196 [00:26<00:00,  7.46it/s, epoch=135, loss=254]\n"
          ]
        },
        {
          "output_type": "stream",
          "name": "stdout",
          "text": [
            "Total loss:2363.1736990913014, loss_ 2156.017368359852\n"
          ]
        },
        {
          "output_type": "stream",
          "name": "stderr",
          "text": [
            "100%|██████████| 196/196 [00:26<00:00,  7.39it/s, epoch=136, loss=361]\n"
          ]
        },
        {
          "output_type": "stream",
          "name": "stdout",
          "text": [
            "Total loss:2342.8248973042946, loss_ 2135.947749824362\n"
          ]
        },
        {
          "output_type": "stream",
          "name": "stderr",
          "text": [
            "100%|██████████| 196/196 [00:26<00:00,  7.36it/s, epoch=137, loss=270]\n"
          ]
        },
        {
          "output_type": "stream",
          "name": "stdout",
          "text": [
            "Total loss:2361.562581197515, loss_ 2154.3299331265375\n"
          ]
        },
        {
          "output_type": "stream",
          "name": "stderr",
          "text": [
            "100%|██████████| 196/196 [00:27<00:00,  7.17it/s, epoch=138, loss=330]\n"
          ]
        },
        {
          "output_type": "stream",
          "name": "stdout",
          "text": [
            "Total loss:2360.47859196552, loss_ 2153.397779199893\n"
          ]
        },
        {
          "output_type": "stream",
          "name": "stderr",
          "text": [
            "100%|██████████| 196/196 [00:26<00:00,  7.36it/s, epoch=139, loss=319]\n"
          ]
        },
        {
          "output_type": "stream",
          "name": "stdout",
          "text": [
            "Total loss:2339.9869285322625, loss_ 2132.8841285133285\n"
          ]
        },
        {
          "output_type": "stream",
          "name": "stderr",
          "text": [
            "100%|██████████| 196/196 [00:27<00:00,  7.18it/s, epoch=140, loss=292]\n"
          ]
        },
        {
          "output_type": "stream",
          "name": "stdout",
          "text": [
            "Total loss:2316.1539764518934, loss_ 2109.4569938930013\n"
          ]
        },
        {
          "output_type": "stream",
          "name": "stderr",
          "text": [
            "100%|██████████| 196/196 [00:26<00:00,  7.35it/s, epoch=141, loss=349]\n"
          ]
        },
        {
          "output_type": "stream",
          "name": "stdout",
          "text": [
            "Total loss:2317.307941163019, loss_ 2110.6748091821237\n"
          ]
        },
        {
          "output_type": "stream",
          "name": "stderr",
          "text": [
            "100%|██████████| 196/196 [00:26<00:00,  7.39it/s, epoch=142, loss=285]\n"
          ]
        },
        {
          "output_type": "stream",
          "name": "stdout",
          "text": [
            "Total loss:2334.939135281411, loss_ 2127.9399482011836\n"
          ]
        },
        {
          "output_type": "stream",
          "name": "stderr",
          "text": [
            "100%|██████████| 196/196 [00:26<00:00,  7.36it/s, epoch=143, loss=299]\n"
          ]
        },
        {
          "output_type": "stream",
          "name": "stdout",
          "text": [
            "Total loss:2258.1043020915126, loss_ 2052.557990460018\n"
          ]
        },
        {
          "output_type": "stream",
          "name": "stderr",
          "text": [
            "100%|██████████| 196/196 [00:26<00:00,  7.38it/s, epoch=144, loss=218]\n"
          ]
        },
        {
          "output_type": "stream",
          "name": "stdout",
          "text": [
            "Total loss:2289.6874743668445, loss_ 2083.731205355638\n"
          ]
        },
        {
          "output_type": "stream",
          "name": "stderr",
          "text": [
            "100%|██████████| 196/196 [00:26<00:00,  7.29it/s, epoch=145, loss=306]\n"
          ]
        },
        {
          "output_type": "stream",
          "name": "stdout",
          "text": [
            "Total loss:2287.1659616140787, loss_ 2080.876282767992\n"
          ]
        },
        {
          "output_type": "stream",
          "name": "stderr",
          "text": [
            "100%|██████████| 196/196 [00:26<00:00,  7.40it/s, epoch=146, loss=248]\n"
          ]
        },
        {
          "output_type": "stream",
          "name": "stdout",
          "text": [
            "Total loss:2277.3353652679693, loss_ 2071.144934607332\n"
          ]
        },
        {
          "output_type": "stream",
          "name": "stderr",
          "text": [
            "100%|██████████| 196/196 [00:26<00:00,  7.40it/s, epoch=147, loss=260]\n"
          ]
        },
        {
          "output_type": "stream",
          "name": "stdout",
          "text": [
            "Total loss:2235.9464100959044, loss_ 2030.5480757484327\n"
          ]
        },
        {
          "output_type": "stream",
          "name": "stderr",
          "text": [
            "100%|██████████| 196/196 [00:27<00:00,  7.22it/s, epoch=148, loss=357]\n"
          ]
        },
        {
          "output_type": "stream",
          "name": "stdout",
          "text": [
            "Total loss:2212.398634284665, loss_ 2007.3683696053988\n"
          ]
        },
        {
          "output_type": "stream",
          "name": "stderr",
          "text": [
            "100%|██████████| 196/196 [00:26<00:00,  7.31it/s, epoch=149, loss=257]"
          ]
        },
        {
          "output_type": "stream",
          "name": "stdout",
          "text": [
            "Total loss:2216.5880468730543, loss_ 2011.3560713565605\n",
            "Finished Training\n"
          ]
        },
        {
          "output_type": "stream",
          "name": "stderr",
          "text": [
            "\n"
          ]
        }
      ],
      "source": [
        "import torch.optim as optim\n",
        "from tqdm import tqdm\n",
        "\n",
        "\n",
        "for name, param in vgg_model.named_parameters():\n",
        "    if 'classifier' in name:\n",
        "        param.requires_grad = False\n",
        "\n",
        "# parameters_to_optimize = [\n",
        "#     vgg_model.fc1.parameters(),\n",
        "#     vgg_model.fc2.parameters(),\n",
        "#     vgg_model.fc3.parameters(),\n",
        "# ]\n",
        "# optimizer = optim.SGD(parameters_to_optimize, lr=0.001, momentum=0.9)\n",
        "# optimizer = optim.SGD(vgg_model.fc.parameters(), lr=0.001, momentum=0.9)\n",
        "optimizer = optim.Adam(vgg_model.fc.parameters(), lr=0.001)\n",
        "eta =  0.1\n",
        "epochs = 150\n",
        "\n",
        "loss_fn = MSE_loss()\n",
        "\n",
        "loss_list = []\n",
        "mse_loss_list = []\n",
        "\n",
        "for epoch in range(epochs):  # loop over the dataset multiple times\n",
        "    loop = tqdm(dataloader)\n",
        "    total_loss = 0\n",
        "    loss_ = 0\n",
        "    for i, data in enumerate(loop):\n",
        "\n",
        "        images, labels = data\n",
        "\n",
        "        optimizer.zero_grad()\n",
        "\n",
        "        images = images.to(device)\n",
        "        labels = labels.to(device)\n",
        "\n",
        "        # forward + backward + optimize\n",
        "        U = vgg_model(images)\n",
        "\n",
        "        reg = torch.sum((torch.sgn(U) - U)**2)\n",
        "\n",
        "        loss = loss_fn(U, labels)\n",
        "        loss_ += loss\n",
        "        loss = loss + (eta * reg)\n",
        "\n",
        "        total_loss += loss\n",
        "\n",
        "        loss.backward()\n",
        "        optimizer.step()\n",
        "\n",
        "        loop.set_postfix(epoch = epoch, loss=loss.item())\n",
        "\n",
        "    total_loss = total_loss/ len(loop)\n",
        "    loss_ = loss_/ len(loop)\n",
        "    loss_list.append(total_loss.item())\n",
        "    mse_loss_list.append(loss_.item())\n",
        "\n",
        "    # if epoch % 5 == 0:\n",
        "    print(f'Total loss:{total_loss.item()}, loss_ {loss_.item()}')\n",
        "print('Finished Training')"
      ]
    },
    {
      "cell_type": "code",
      "execution_count": 41,
      "metadata": {
        "id": "cVkRCyKJ-n3_"
      },
      "outputs": [],
      "source": [
        "torch.save(vgg_model.state_dict(), 'vgg16.pth')"
      ]
    },
    {
      "cell_type": "code",
      "source": [
        "from google.colab import drive\n",
        "drive.mount('/content/drive')\n",
        "torch.save(vgg_model.state_dict(), '/content/drive/My Drive/Colab Notebooks/vgg16.pth')"
      ],
      "metadata": {
        "colab": {
          "base_uri": "https://localhost:8080/"
        },
        "id": "SAk1SbsnggIg",
        "outputId": "0cf016d6-6b54-4165-cd37-312a5f749bac"
      },
      "execution_count": 42,
      "outputs": [
        {
          "output_type": "stream",
          "name": "stdout",
          "text": [
            "Mounted at /content/drive\n"
          ]
        }
      ]
    },
    {
      "cell_type": "code",
      "execution_count": 43,
      "metadata": {
        "colab": {
          "base_uri": "https://localhost:8080/"
        },
        "id": "SJXsX_AZ-n4A",
        "outputId": "cc3135e1-ec50-4bde-8f06-72939475fd2e"
      },
      "outputs": [
        {
          "output_type": "execute_result",
          "data": {
            "text/plain": [
              "<All keys matched successfully>"
            ]
          },
          "metadata": {},
          "execution_count": 43
        }
      ],
      "source": [
        "#loading\n",
        "loaded_state_dict = torch.load('/content/drive/My Drive/Colab Notebooks/vgg16.pth')\n",
        "\n",
        "# Load state dictionary into model\n",
        "vgg_model.load_state_dict(loaded_state_dict)"
      ]
    },
    {
      "cell_type": "code",
      "execution_count": 44,
      "metadata": {
        "execution": {
          "iopub.execute_input": "2024-04-23T05:12:08.909035Z",
          "iopub.status.busy": "2024-04-23T05:12:08.908084Z",
          "iopub.status.idle": "2024-04-23T05:12:09.137247Z",
          "shell.execute_reply": "2024-04-23T05:12:09.136352Z",
          "shell.execute_reply.started": "2024-04-23T05:12:08.908994Z"
        },
        "trusted": true,
        "colab": {
          "base_uri": "https://localhost:8080/",
          "height": 430
        },
        "id": "ApJlAzTZ-n4A",
        "outputId": "40974afd-71d4-4e21-e6af-4372eac18895"
      },
      "outputs": [
        {
          "output_type": "display_data",
          "data": {
            "text/plain": [
              "<Figure size 640x480 with 1 Axes>"
            ],
            "image/png": "[encoded data removed]"
          },
          "metadata": {}
        }
      ],
      "source": [
        "import matplotlib.pyplot as plt\n",
        "\n",
        "epoch = range(1,len(loss_list))\n",
        "plt.plot(epoch, loss_list[1:])\n",
        "plt.show()"
      ]
    },
    {
      "cell_type": "code",
      "execution_count": null,
      "metadata": {
        "execution": {
          "iopub.execute_input": "2024-04-23T05:12:27.393679Z",
          "iopub.status.busy": "2024-04-23T05:12:27.392966Z",
          "iopub.status.idle": "2024-04-23T05:12:27.397426Z",
          "shell.execute_reply": "2024-04-23T05:12:27.396416Z",
          "shell.execute_reply.started": "2024-04-23T05:12:27.393645Z"
        },
        "trusted": true,
        "id": "KOULZV-b-n4A"
      },
      "outputs": [],
      "source": [
        "# epoch = range(0,40)\n",
        "# plt.plot(epoch, mse_loss_list)\n",
        "# plt.show()"
      ]
    },
    {
      "cell_type": "code",
      "execution_count": 45,
      "metadata": {
        "execution": {
          "iopub.execute_input": "2024-04-23T05:12:48.402897Z",
          "iopub.status.busy": "2024-04-23T05:12:48.402056Z",
          "iopub.status.idle": "2024-04-23T05:12:48.414209Z",
          "shell.execute_reply": "2024-04-23T05:12:48.413298Z",
          "shell.execute_reply.started": "2024-04-23T05:12:48.402864Z"
        },
        "trusted": true,
        "id": "Tgsrmfz3-n4A"
      },
      "outputs": [],
      "source": [
        "import numpy as np\n",
        "\n",
        "def CalcHammingDist(B1, B2):\n",
        "    q = B2.shape[1]\n",
        "    distH = 0.5 * (q - np.dot(B1, B2.transpose()))\n",
        "    return distH\n",
        "\n",
        "def CalcMap(qB, rB, queryL, retrievalL):\n",
        "    num_query = queryL.shape[0]\n",
        "    map = 0\n",
        "    for iter in range(num_query):\n",
        "        gnd = (np.dot(queryL[iter, :], retrievalL.transpose()) > 0).astype(np.int64)\n",
        "        tsum = np.sum(gnd)\n",
        "        if tsum == 0:\n",
        "            continue\n",
        "        hamm = CalcHammingDist(qB[iter, :], rB)\n",
        "        ind = np.argsort(hamm)\n",
        "        gnd = gnd[ind]\n",
        "        count = np.linspace(1, tsum, tsum)\n",
        "        tindex = np.asarray(np.where(gnd == 1)) + 1.0\n",
        "        map_ = np.mean(count / (tindex))\n",
        "        map = map + map_\n",
        "    map = map / num_query\n",
        "    return map\n",
        "\n",
        "def CalcTopMap(qB, rB, queryL, retrievalL, topk):\n",
        "    num_query = queryL.shape[0]\n",
        "    topkmap = 0\n",
        "    for iter in range(num_query):\n",
        "        gnd = (np.dot(queryL[iter, :], retrievalL.transpose()) > 0).astype(np.int64)\n",
        "        hamm = CalcHammingDist(qB[iter, :], rB)\n",
        "        ind = np.argsort(hamm)\n",
        "        gnd = gnd[ind]\n",
        "        tgnd = gnd[0:topk]\n",
        "        tsum = np.sum(tgnd)\n",
        "        if tsum == 0:\n",
        "            continue\n",
        "        count = np.linspace(1, tsum, tsum)\n",
        "        tindex = np.asarray(np.where(tgnd == 1)) + 1.0\n",
        "        topkmap_ = np.mean(count / (tindex))\n",
        "        topkmap = topkmap + topkmap_\n",
        "    topkmap = topkmap / num_query\n",
        "    return topkmap\n"
      ]
    },
    {
      "cell_type": "code",
      "execution_count": 46,
      "metadata": {
        "execution": {
          "iopub.execute_input": "2024-04-23T05:25:42.976961Z",
          "iopub.status.busy": "2024-04-23T05:25:42.976563Z",
          "iopub.status.idle": "2024-04-23T05:25:43.676599Z",
          "shell.execute_reply": "2024-04-23T05:25:43.675841Z",
          "shell.execute_reply.started": "2024-04-23T05:25:42.976932Z"
        },
        "trusted": true,
        "colab": {
          "base_uri": "https://localhost:8080/"
        },
        "id": "6jEnciOe-n4B",
        "outputId": "3c22956e-6f9f-451d-f92d-6edc418df015"
      },
      "outputs": [
        {
          "output_type": "stream",
          "name": "stdout",
          "text": [
            "Files already downloaded and verified\n"
          ]
        }
      ],
      "source": [
        "transform = transforms.Compose([\n",
        "            transforms.ToTensor(),\n",
        "            transforms.Normalize(mean=mean_values, std=std_values)\n",
        "        ])\n",
        "\n",
        "CIFAR10_test = torchvision.datasets.CIFAR10(root =  'Datasets', download=True, transform=transform, train = False)\n",
        "\n",
        "testloader = DataLoader(CIFAR10_test, batch_size= 256,shuffle= True)"
      ]
    },
    {
      "cell_type": "code",
      "execution_count": null,
      "metadata": {
        "id": "55AnFFW9-n4C"
      },
      "outputs": [],
      "source": []
    },
    {
      "cell_type": "code",
      "execution_count": 47,
      "metadata": {
        "execution": {
          "iopub.execute_input": "2024-04-23T05:27:38.476416Z",
          "iopub.status.busy": "2024-04-23T05:27:38.475572Z",
          "iopub.status.idle": "2024-04-23T05:27:38.482184Z",
          "shell.execute_reply": "2024-04-23T05:27:38.481213Z",
          "shell.execute_reply.started": "2024-04-23T05:27:38.476384Z"
        },
        "trusted": true,
        "id": "vPOgQ61u-n4C"
      },
      "outputs": [],
      "source": [
        "list = []\n",
        "labels_list = []\n",
        "for images, labels in testloader:\n",
        "\n",
        "    images = images.to(device)\n",
        "    labels = labels.to(device)\n",
        "\n",
        "    vgg_model.eval()\n",
        "    U  = vgg_model(images)\n",
        "    B = torch.sgn(U)\n",
        "    B  = B.detach().cpu().numpy().astype(np.int64)\n",
        "    list.append(B)\n",
        "\n",
        "    labels = F.one_hot(labels).detach().cpu().numpy()\n",
        "    labels_list.append(labels)\n",
        "\n",
        "qB = np.concatenate(list, axis = 0)\n",
        "test_labels = np.concatenate(labels_list, axis = 0)"
      ]
    },
    {
      "cell_type": "code",
      "execution_count": 48,
      "metadata": {
        "id": "syeHgtyk-n4D"
      },
      "outputs": [],
      "source": [
        "list = []\n",
        "labels_list = []\n",
        "for images, labels in dataloader:\n",
        "\n",
        "    images = images.to(device)\n",
        "    labels = labels.to(device)\n",
        "\n",
        "    vgg_model.eval()\n",
        "    U  = vgg_model(images)\n",
        "    B = torch.sgn(U)\n",
        "    B  = B.detach().cpu().numpy().astype(np.int64)\n",
        "    list.append(B)\n",
        "\n",
        "    labels = F.one_hot(labels).detach().cpu().numpy()\n",
        "    labels_list.append(labels)\n",
        "\n",
        "rB = np.concatenate(list, axis = 0)\n",
        "train_labels = np.concatenate(labels_list)"
      ]
    },
    {
      "cell_type": "code",
      "execution_count": 49,
      "metadata": {
        "colab": {
          "base_uri": "https://localhost:8080/"
        },
        "id": "Yo2dt7ec-n4E",
        "outputId": "6f486e09-b050-4367-d58e-2766ea3138a8"
      },
      "outputs": [
        {
          "output_type": "execute_result",
          "data": {
            "text/plain": [
              "(10000, 16)"
            ]
          },
          "metadata": {},
          "execution_count": 49
        }
      ],
      "source": [
        "qB.shape"
      ]
    },
    {
      "cell_type": "code",
      "execution_count": 50,
      "metadata": {
        "execution": {
          "iopub.execute_input": "2024-04-23T05:25:45.899657Z",
          "iopub.status.busy": "2024-04-23T05:25:45.899006Z",
          "iopub.status.idle": "2024-04-23T05:25:45.933596Z",
          "shell.execute_reply": "2024-04-23T05:25:45.932691Z",
          "shell.execute_reply.started": "2024-04-23T05:25:45.899628Z"
        },
        "trusted": true,
        "colab": {
          "base_uri": "https://localhost:8080/"
        },
        "id": "Rlj4tYzv-n4E",
        "outputId": "aee75f14-5217-477b-d1a7-6f650e23d96f"
      },
      "outputs": [
        {
          "output_type": "execute_result",
          "data": {
            "text/plain": [
              "0.6752903300211599"
            ]
          },
          "metadata": {},
          "execution_count": 50
        }
      ],
      "source": [
        "CalcMap(qB, rB, test_labels, train_labels)"
      ]
    },
    {
      "cell_type": "code",
      "execution_count": 51,
      "metadata": {
        "execution": {
          "iopub.execute_input": "2024-04-23T05:27:21.603531Z",
          "iopub.status.busy": "2024-04-23T05:27:21.603177Z",
          "iopub.status.idle": "2024-04-23T05:27:21.635353Z",
          "shell.execute_reply": "2024-04-23T05:27:21.634480Z",
          "shell.execute_reply.started": "2024-04-23T05:27:21.603504Z"
        },
        "trusted": true,
        "colab": {
          "base_uri": "https://localhost:8080/"
        },
        "id": "coXWSu0y-n4F",
        "outputId": "be6cd0e7-943a-40ea-9920-0c4cf1df6857"
      },
      "outputs": [
        {
          "output_type": "execute_result",
          "data": {
            "text/plain": [
              "0.6692254578033382"
            ]
          },
          "metadata": {},
          "execution_count": 51
        }
      ],
      "source": [
        "topk = 15\n",
        "CalcTopMap(qB, rB, test_labels, train_labels, topk)"
      ]
    },
    {
      "cell_type": "code",
      "execution_count": null,
      "metadata": {
        "id": "St5aafjX-n4F"
      },
      "outputs": [],
      "source": []
    }
  ],
  "metadata": {
    "kaggle": {
      "accelerator": "nvidiaTeslaT4",
      "dataSources": [],
      "dockerImageVersionId": 30699,
      "isGpuEnabled": true,
      "isInternetEnabled": true,
      "language": "python",
      "sourceType": "notebook"
    },
    "kernelspec": {
      "display_name": "neural_ODE",
      "language": "python",
      "name": "neural_ode"
    },
    "language_info": {
      "codemirror_mode": {
        "name": "ipython",
        "version": 3
      },
      "file_extension": ".py",
      "mimetype": "text/x-python",
      "name": "python",
      "nbconvert_exporter": "python",
      "pygments_lexer": "ipython3",
      "version": "3.10.13"
    },
    "colab": {
      "provenance": [],
      "gpuType": "T4"
    },
    "accelerator": "GPU"
  },
  "nbformat": 4,
  "nbformat_minor": 0
}